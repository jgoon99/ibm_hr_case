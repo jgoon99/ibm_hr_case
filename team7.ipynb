{
 "cells": [
  {
   "cell_type": "markdown",
   "id": "49b1ef65",
   "metadata": {},
   "source": [
    "# Loading Data and Relative Libraries"
   ]
  },
  {
   "cell_type": "code",
   "execution_count": 1,
   "id": "fce159d8",
   "metadata": {},
   "outputs": [
    {
     "name": "stdout",
     "output_type": "stream",
     "text": [
      "Pinged your deployment. You successfully connected to MongoDB!\n"
     ]
    }
   ],
   "source": [
    "import pandas as pd # Pandas DataFrame\n",
    "import seaborn as sns # Data Visualization Tool\n",
    "import numpy as np # Numpy\n",
    "import matplotlib.pyplot as plt # Ploting Tool\n",
    "import statsmodels.formula.api as smf # Statistic Analysis Tool\n",
    "from pymongo.mongo_client import MongoClient # Mongo DB Client Connection Tool\n",
    "import urllib.parse # Url String Parsing\n",
    "\n",
    "# setting pandas print options\n",
    "pd.set_option('display.max_rows', 500)\n",
    "pd.set_option('display.max_columns', 500)\n",
    "pd.set_option('display.width', 1000)\n",
    "\n",
    "# Connecting String for MongoDB Connector\n",
    "username = urllib.parse.quote_plus('')\n",
    "password = urllib.parse.quote_plus('')\n",
    "uri = \"mongodb+srv://\" + username + \":\" + password + \"@127.0.0.1/?retryWrites=true&w=majority\"\n",
    "\n",
    "# Set client\n",
    "client = MongoClient(uri)\n",
    "\n",
    "# Send a ping to confirm a successful connection\n",
    "try:\n",
    "    client.admin.command('ping')\n",
    "    print(\"Pinged your deployment. You successfully connected to MongoDB!\")\n",
    "except Exception as e:\n",
    "    print(e)"
   ]
  },
  {
   "cell_type": "code",
   "execution_count": 2,
   "id": "4e7621a4",
   "metadata": {},
   "outputs": [
    {
     "name": "stdout",
     "output_type": "stream",
     "text": [
      "['Team7', 'Team7_Practice', 'pokemon_Sanfran', 'sample_airbnb', 'sample_analytics', 'sample_geospatial', 'sample_guides', 'sample_mflix', 'sample_restaurants', 'sample_supplies', 'sample_training', 'sample_weatherdata', 'admin', 'local']\n"
     ]
    }
   ],
   "source": [
    "# Check Database list\n",
    "print(client.list_database_names())"
   ]
  },
  {
   "cell_type": "code",
   "execution_count": 3,
   "id": "889b4f41",
   "metadata": {},
   "outputs": [],
   "source": [
    "# Select Database\n",
    "mydb = client.Team7\n",
    "\n",
    "# Check Collection list in Selected Database\n",
    "mydb.list_collection_names()\n",
    "\n",
    "# Select Collection #IBM CASE\n",
    "mycol = mydb.imb_case\n",
    "\n",
    "# Get Pandas DataFrame from Mongo Collection\n",
    "df = pd.DataFrame(list(mycol.find()))"
   ]
  },
  {
   "cell_type": "code",
   "execution_count": 4,
   "id": "906420d2",
   "metadata": {},
   "outputs": [
    {
     "name": "stdout",
     "output_type": "stream",
     "text": [
      "<class 'pandas.core.frame.DataFrame'>\n",
      "RangeIndex: 1470 entries, 0 to 1469\n",
      "Data columns (total 36 columns):\n",
      " #   Column                    Non-Null Count  Dtype \n",
      "---  ------                    --------------  ----- \n",
      " 0   _id                       1470 non-null   object\n",
      " 1   Age                       1470 non-null   int64 \n",
      " 2   Attrition                 1470 non-null   object\n",
      " 3   BusinessTravel            1470 non-null   object\n",
      " 4   DailyRate                 1470 non-null   int64 \n",
      " 5   Department                1470 non-null   object\n",
      " 6   DistanceFromHome          1470 non-null   int64 \n",
      " 7   Education                 1470 non-null   int64 \n",
      " 8   EducationField            1470 non-null   object\n",
      " 9   EmployeeCount             1470 non-null   int64 \n",
      " 10  EmployeeNumber            1470 non-null   int64 \n",
      " 11  EnvironmentSatisfaction   1470 non-null   int64 \n",
      " 12  Gender                    1470 non-null   object\n",
      " 13  HourlyRate                1470 non-null   int64 \n",
      " 14  JobInvolvement            1470 non-null   int64 \n",
      " 15  JobLevel                  1470 non-null   int64 \n",
      " 16  JobRole                   1470 non-null   object\n",
      " 17  JobSatisfaction           1470 non-null   int64 \n",
      " 18  MaritalStatus             1470 non-null   object\n",
      " 19  MonthlyIncome             1470 non-null   int64 \n",
      " 20  MonthlyRate               1470 non-null   int64 \n",
      " 21  NumCompaniesWorked        1470 non-null   int64 \n",
      " 22  Over18                    1470 non-null   object\n",
      " 23  OverTime                  1470 non-null   object\n",
      " 24  PercentSalaryHike         1470 non-null   int64 \n",
      " 25  PerformanceRating         1470 non-null   int64 \n",
      " 26  RelationshipSatisfaction  1470 non-null   int64 \n",
      " 27  StandardHours             1470 non-null   int64 \n",
      " 28  StockOptionLevel          1470 non-null   int64 \n",
      " 29  TotalWorkingYears         1470 non-null   int64 \n",
      " 30  TrainingTimesLastYear     1470 non-null   int64 \n",
      " 31  WorkLifeBalance           1470 non-null   int64 \n",
      " 32  YearsAtCompany            1470 non-null   int64 \n",
      " 33  YearsInCurrentRole        1470 non-null   int64 \n",
      " 34  YearsSinceLastPromotion   1470 non-null   int64 \n",
      " 35  YearsWithCurrManager      1470 non-null   int64 \n",
      "dtypes: int64(26), object(10)\n",
      "memory usage: 413.6+ KB\n"
     ]
    }
   ],
   "source": [
    "# Check Pandas DATA FRAME Information\n",
    "df.info(verbose=True)"
   ]
  },
  {
   "cell_type": "code",
   "execution_count": 5,
   "id": "fb0f6c37",
   "metadata": {},
   "outputs": [
    {
     "data": {
      "text/html": [
       "<div>\n",
       "<style scoped>\n",
       "    .dataframe tbody tr th:only-of-type {\n",
       "        vertical-align: middle;\n",
       "    }\n",
       "\n",
       "    .dataframe tbody tr th {\n",
       "        vertical-align: top;\n",
       "    }\n",
       "\n",
       "    .dataframe thead th {\n",
       "        text-align: right;\n",
       "    }\n",
       "</style>\n",
       "<table border=\"1\" class=\"dataframe\">\n",
       "  <thead>\n",
       "    <tr style=\"text-align: right;\">\n",
       "      <th></th>\n",
       "      <th>_id</th>\n",
       "      <th>Age</th>\n",
       "      <th>Attrition</th>\n",
       "      <th>BusinessTravel</th>\n",
       "      <th>DailyRate</th>\n",
       "      <th>Department</th>\n",
       "      <th>DistanceFromHome</th>\n",
       "      <th>Education</th>\n",
       "      <th>EducationField</th>\n",
       "      <th>EmployeeCount</th>\n",
       "      <th>EmployeeNumber</th>\n",
       "      <th>EnvironmentSatisfaction</th>\n",
       "      <th>Gender</th>\n",
       "      <th>HourlyRate</th>\n",
       "      <th>JobInvolvement</th>\n",
       "      <th>JobLevel</th>\n",
       "      <th>JobRole</th>\n",
       "      <th>JobSatisfaction</th>\n",
       "      <th>MaritalStatus</th>\n",
       "      <th>MonthlyIncome</th>\n",
       "      <th>MonthlyRate</th>\n",
       "      <th>NumCompaniesWorked</th>\n",
       "      <th>Over18</th>\n",
       "      <th>OverTime</th>\n",
       "      <th>PercentSalaryHike</th>\n",
       "      <th>PerformanceRating</th>\n",
       "      <th>RelationshipSatisfaction</th>\n",
       "      <th>StandardHours</th>\n",
       "      <th>StockOptionLevel</th>\n",
       "      <th>TotalWorkingYears</th>\n",
       "      <th>TrainingTimesLastYear</th>\n",
       "      <th>WorkLifeBalance</th>\n",
       "      <th>YearsAtCompany</th>\n",
       "      <th>YearsInCurrentRole</th>\n",
       "      <th>YearsSinceLastPromotion</th>\n",
       "      <th>YearsWithCurrManager</th>\n",
       "    </tr>\n",
       "  </thead>\n",
       "  <tbody>\n",
       "    <tr>\n",
       "      <th>0</th>\n",
       "      <td>64b829bfb64986d9b3edcf5d</td>\n",
       "      <td>41</td>\n",
       "      <td>Yes</td>\n",
       "      <td>Travel_Rarely</td>\n",
       "      <td>1102</td>\n",
       "      <td>Sales</td>\n",
       "      <td>1</td>\n",
       "      <td>2</td>\n",
       "      <td>Life Sciences</td>\n",
       "      <td>1</td>\n",
       "      <td>1</td>\n",
       "      <td>2</td>\n",
       "      <td>Female</td>\n",
       "      <td>94</td>\n",
       "      <td>3</td>\n",
       "      <td>2</td>\n",
       "      <td>Sales Executive</td>\n",
       "      <td>4</td>\n",
       "      <td>Single</td>\n",
       "      <td>5993</td>\n",
       "      <td>19479</td>\n",
       "      <td>8</td>\n",
       "      <td>Y</td>\n",
       "      <td>Yes</td>\n",
       "      <td>11</td>\n",
       "      <td>3</td>\n",
       "      <td>1</td>\n",
       "      <td>80</td>\n",
       "      <td>0</td>\n",
       "      <td>8</td>\n",
       "      <td>0</td>\n",
       "      <td>1</td>\n",
       "      <td>6</td>\n",
       "      <td>4</td>\n",
       "      <td>0</td>\n",
       "      <td>5</td>\n",
       "    </tr>\n",
       "    <tr>\n",
       "      <th>1</th>\n",
       "      <td>64b829bfb64986d9b3edcf5e</td>\n",
       "      <td>49</td>\n",
       "      <td>No</td>\n",
       "      <td>Travel_Frequently</td>\n",
       "      <td>279</td>\n",
       "      <td>Research &amp; Development</td>\n",
       "      <td>8</td>\n",
       "      <td>1</td>\n",
       "      <td>Life Sciences</td>\n",
       "      <td>1</td>\n",
       "      <td>2</td>\n",
       "      <td>3</td>\n",
       "      <td>Male</td>\n",
       "      <td>61</td>\n",
       "      <td>2</td>\n",
       "      <td>2</td>\n",
       "      <td>Research Scientist</td>\n",
       "      <td>2</td>\n",
       "      <td>Married</td>\n",
       "      <td>5130</td>\n",
       "      <td>24907</td>\n",
       "      <td>1</td>\n",
       "      <td>Y</td>\n",
       "      <td>No</td>\n",
       "      <td>23</td>\n",
       "      <td>4</td>\n",
       "      <td>4</td>\n",
       "      <td>80</td>\n",
       "      <td>1</td>\n",
       "      <td>10</td>\n",
       "      <td>3</td>\n",
       "      <td>3</td>\n",
       "      <td>10</td>\n",
       "      <td>7</td>\n",
       "      <td>1</td>\n",
       "      <td>7</td>\n",
       "    </tr>\n",
       "    <tr>\n",
       "      <th>2</th>\n",
       "      <td>64b829bfb64986d9b3edcf5f</td>\n",
       "      <td>37</td>\n",
       "      <td>Yes</td>\n",
       "      <td>Travel_Rarely</td>\n",
       "      <td>1373</td>\n",
       "      <td>Research &amp; Development</td>\n",
       "      <td>2</td>\n",
       "      <td>2</td>\n",
       "      <td>Other</td>\n",
       "      <td>1</td>\n",
       "      <td>4</td>\n",
       "      <td>4</td>\n",
       "      <td>Male</td>\n",
       "      <td>92</td>\n",
       "      <td>2</td>\n",
       "      <td>1</td>\n",
       "      <td>Laboratory Technician</td>\n",
       "      <td>3</td>\n",
       "      <td>Single</td>\n",
       "      <td>2090</td>\n",
       "      <td>2396</td>\n",
       "      <td>6</td>\n",
       "      <td>Y</td>\n",
       "      <td>Yes</td>\n",
       "      <td>15</td>\n",
       "      <td>3</td>\n",
       "      <td>2</td>\n",
       "      <td>80</td>\n",
       "      <td>0</td>\n",
       "      <td>7</td>\n",
       "      <td>3</td>\n",
       "      <td>3</td>\n",
       "      <td>0</td>\n",
       "      <td>0</td>\n",
       "      <td>0</td>\n",
       "      <td>0</td>\n",
       "    </tr>\n",
       "    <tr>\n",
       "      <th>3</th>\n",
       "      <td>64b829bfb64986d9b3edcf60</td>\n",
       "      <td>33</td>\n",
       "      <td>No</td>\n",
       "      <td>Travel_Frequently</td>\n",
       "      <td>1392</td>\n",
       "      <td>Research &amp; Development</td>\n",
       "      <td>3</td>\n",
       "      <td>4</td>\n",
       "      <td>Life Sciences</td>\n",
       "      <td>1</td>\n",
       "      <td>5</td>\n",
       "      <td>4</td>\n",
       "      <td>Female</td>\n",
       "      <td>56</td>\n",
       "      <td>3</td>\n",
       "      <td>1</td>\n",
       "      <td>Research Scientist</td>\n",
       "      <td>3</td>\n",
       "      <td>Married</td>\n",
       "      <td>2909</td>\n",
       "      <td>23159</td>\n",
       "      <td>1</td>\n",
       "      <td>Y</td>\n",
       "      <td>Yes</td>\n",
       "      <td>11</td>\n",
       "      <td>3</td>\n",
       "      <td>3</td>\n",
       "      <td>80</td>\n",
       "      <td>0</td>\n",
       "      <td>8</td>\n",
       "      <td>3</td>\n",
       "      <td>3</td>\n",
       "      <td>8</td>\n",
       "      <td>7</td>\n",
       "      <td>3</td>\n",
       "      <td>0</td>\n",
       "    </tr>\n",
       "    <tr>\n",
       "      <th>4</th>\n",
       "      <td>64b829bfb64986d9b3edcf61</td>\n",
       "      <td>27</td>\n",
       "      <td>No</td>\n",
       "      <td>Travel_Rarely</td>\n",
       "      <td>591</td>\n",
       "      <td>Research &amp; Development</td>\n",
       "      <td>2</td>\n",
       "      <td>1</td>\n",
       "      <td>Medical</td>\n",
       "      <td>1</td>\n",
       "      <td>7</td>\n",
       "      <td>1</td>\n",
       "      <td>Male</td>\n",
       "      <td>40</td>\n",
       "      <td>3</td>\n",
       "      <td>1</td>\n",
       "      <td>Laboratory Technician</td>\n",
       "      <td>2</td>\n",
       "      <td>Married</td>\n",
       "      <td>3468</td>\n",
       "      <td>16632</td>\n",
       "      <td>9</td>\n",
       "      <td>Y</td>\n",
       "      <td>No</td>\n",
       "      <td>12</td>\n",
       "      <td>3</td>\n",
       "      <td>4</td>\n",
       "      <td>80</td>\n",
       "      <td>1</td>\n",
       "      <td>6</td>\n",
       "      <td>3</td>\n",
       "      <td>3</td>\n",
       "      <td>2</td>\n",
       "      <td>2</td>\n",
       "      <td>2</td>\n",
       "      <td>2</td>\n",
       "    </tr>\n",
       "  </tbody>\n",
       "</table>\n",
       "</div>"
      ],
      "text/plain": [
       "                        _id  Age Attrition     BusinessTravel  DailyRate              Department  DistanceFromHome  Education EducationField  EmployeeCount  EmployeeNumber  EnvironmentSatisfaction  Gender  HourlyRate  JobInvolvement  JobLevel                JobRole  JobSatisfaction MaritalStatus  MonthlyIncome  MonthlyRate  NumCompaniesWorked Over18 OverTime  PercentSalaryHike  PerformanceRating  RelationshipSatisfaction  StandardHours  StockOptionLevel  TotalWorkingYears  TrainingTimesLastYear  WorkLifeBalance  YearsAtCompany  YearsInCurrentRole  YearsSinceLastPromotion  YearsWithCurrManager\n",
       "0  64b829bfb64986d9b3edcf5d   41       Yes      Travel_Rarely       1102                   Sales                 1          2  Life Sciences              1               1                        2  Female          94               3         2        Sales Executive                4        Single           5993        19479                   8      Y      Yes                 11                  3                         1             80                 0                  8                      0                1               6                   4                        0                     5\n",
       "1  64b829bfb64986d9b3edcf5e   49        No  Travel_Frequently        279  Research & Development                 8          1  Life Sciences              1               2                        3    Male          61               2         2     Research Scientist                2       Married           5130        24907                   1      Y       No                 23                  4                         4             80                 1                 10                      3                3              10                   7                        1                     7\n",
       "2  64b829bfb64986d9b3edcf5f   37       Yes      Travel_Rarely       1373  Research & Development                 2          2          Other              1               4                        4    Male          92               2         1  Laboratory Technician                3        Single           2090         2396                   6      Y      Yes                 15                  3                         2             80                 0                  7                      3                3               0                   0                        0                     0\n",
       "3  64b829bfb64986d9b3edcf60   33        No  Travel_Frequently       1392  Research & Development                 3          4  Life Sciences              1               5                        4  Female          56               3         1     Research Scientist                3       Married           2909        23159                   1      Y      Yes                 11                  3                         3             80                 0                  8                      3                3               8                   7                        3                     0\n",
       "4  64b829bfb64986d9b3edcf61   27        No      Travel_Rarely        591  Research & Development                 2          1        Medical              1               7                        1    Male          40               3         1  Laboratory Technician                2       Married           3468        16632                   9      Y       No                 12                  3                         4             80                 1                  6                      3                3               2                   2                        2                     2"
      ]
     },
     "execution_count": 5,
     "metadata": {},
     "output_type": "execute_result"
    }
   ],
   "source": [
    "# Check MongoDB DataFrame\n",
    "df.head()"
   ]
  },
  {
   "cell_type": "markdown",
   "id": "129302b5",
   "metadata": {},
   "source": [
    "# Descriptive Statistics\n",
    "## Via MongoDB "
   ]
  },
  {
   "cell_type": "code",
   "execution_count": 6,
   "id": "48fe6cd6",
   "metadata": {},
   "outputs": [
    {
     "data": {
      "text/plain": [
       "[{'_id': 'Yes',\n",
       "  'CNT': 237,\n",
       "  'Avg_Age': 33.607594936708864,\n",
       "  'Avg_DistanceFromHome': 10.632911392405063,\n",
       "  'Avg_EnvironmentSatisfaction': 2.4641350210970465,\n",
       "  'Avg_JobSatisfaction': 2.4683544303797467,\n",
       "  'avg_MonthlyIncome': 4787.0928270042195,\n",
       "  'Avg_Monthly_rate': 14559.308016877638,\n",
       "  'Avg_NumCompaniesWorked': 2.940928270042194,\n",
       "  'Avg_PercentSalaryHike': 15.09704641350211,\n",
       "  'Avg_RelationshipSatisfaction': 2.5991561181434597,\n",
       "  'Avg_StockOptionLevel': 0.5274261603375527,\n",
       "  'Avg_TotalWorkingYears': 8.244725738396625,\n",
       "  'Avg_TrainingTimesLastYear': 2.6244725738396624,\n",
       "  'Avg_WorkLifeBalance': 2.6582278481012658,\n",
       "  'Avg_YearsAtCompany': 5.1308016877637135,\n",
       "  'Avg_YearsInCurrentRole': 2.9029535864978904,\n",
       "  'Avg_YearsSinceLastPromotion': 1.9451476793248945,\n",
       "  'Avg_YearsWithCurrManager': 2.852320675105485},\n",
       " {'_id': 'No',\n",
       "  'CNT': 1233,\n",
       "  'Avg_Age': 37.561232765612324,\n",
       "  'Avg_DistanceFromHome': 8.915652879156529,\n",
       "  'Avg_EnvironmentSatisfaction': 2.7712895377128954,\n",
       "  'Avg_JobSatisfaction': 2.778588807785888,\n",
       "  'avg_MonthlyIncome': 6832.739659367397,\n",
       "  'Avg_Monthly_rate': 14265.779399837795,\n",
       "  'Avg_NumCompaniesWorked': 2.6455798864557987,\n",
       "  'Avg_PercentSalaryHike': 15.231143552311435,\n",
       "  'Avg_RelationshipSatisfaction': 2.7339821573398218,\n",
       "  'Avg_StockOptionLevel': 0.8450932684509327,\n",
       "  'Avg_TotalWorkingYears': 11.862935928629359,\n",
       "  'Avg_TrainingTimesLastYear': 2.8329278183292783,\n",
       "  'Avg_WorkLifeBalance': 2.781021897810219,\n",
       "  'Avg_YearsAtCompany': 7.369018653690187,\n",
       "  'Avg_YearsInCurrentRole': 4.484184914841849,\n",
       "  'Avg_YearsSinceLastPromotion': 2.234387672343877,\n",
       "  'Avg_YearsWithCurrManager': 4.367396593673966}]"
      ]
     },
     "execution_count": 6,
     "metadata": {},
     "output_type": "execute_result"
    }
   ],
   "source": [
    "# Descriptive Statistics (Numerical Variables) using aggregate Function with MongoDB QL\n",
    "descriptive_statistics = mycol.aggregate([{\n",
    "    \"$group\": {\n",
    "        \"_id\": \"$Attrition\", # Attrition Status Yes / No\n",
    "        \"CNT\": { # Count each Attrition Status\n",
    "            \"$count\": {}\n",
    "        }, \"Avg_Age\": { # Average Age between Yes and No\n",
    "            \"$avg\": \"$Age\"\n",
    "        }, \"Avg_DistanceFromHome\": { # Average Distance From Home\n",
    "            \"$avg\": \"$DistanceFromHome\"\n",
    "        }, \"Avg_EnvironmentSatisfaction\": { # Average Environment Satifaction Likert Scale\n",
    "            \"$avg\": \"$EnvironmentSatisfaction\"\n",
    "        }, \"Avg_JobSatisfaction\": { # Average Job Satisfaction Likert Scale\n",
    "            \"$avg\": \"$JobSatisfaction\"\n",
    "        }, \"avg_MonthlyIncome\":{ # Average Monthly Income in $\n",
    "            \"$avg\": \"$MonthlyIncome\"\n",
    "        }, \"Avg_Monthly_rate\": { # Average Monthly Rate\n",
    "            \"$avg\": \"$MonthlyRate\"\n",
    "        }, \"Avg_NumCompaniesWorked\": { # Average# of Companies worked\n",
    "            \"$avg\": \"$NumCompaniesWorked\"\n",
    "        }, \"Avg_PercentSalaryHike\": { # Average Percent Salary hike\n",
    "            \"$avg\": \"$PercentSalaryHike\"\n",
    "        }, \"Avg_RelationshipSatisfaction\": { # Average Relationship Satisfaction \n",
    "            \"$avg\": \"$RelationshipSatisfaction\"\n",
    "        }, \"Avg_StockOptionLevel\": { # Average Stock Option Level. Looks binary 1: Yes, 0: No Stock Option\n",
    "            \"$avg\": \"$StockOptionLevel\"\n",
    "        }, \"Avg_TotalWorkingYears\": { # Average Total working years\n",
    "            \"$avg\": \"$TotalWorkingYears\"\n",
    "        }, \"Avg_TrainingTimesLastYear\": { # Average Training Times Last year\n",
    "            \"$avg\": \"$TrainingTimesLastYear\"\n",
    "        }, \"Avg_WorkLifeBalance\": { # Average Work Life Balance. TIME SPENT BEWTWEEN WORK AND OUTSIDE\n",
    "            \"$avg\": \"$WorkLifeBalance\"\n",
    "        }, \"Avg_YearsAtCompany\": { # Average Years at company\n",
    "            \"$avg\": \"$YearsAtCompany\"\n",
    "        }, \"Avg_YearsInCurrentRole\": { # Average Years in current role\n",
    "            \"$avg\": \"$YearsInCurrentRole\"\n",
    "        }, \"Avg_YearsSinceLastPromotion\": { # Average Years Since last promotion\n",
    "            \"$avg\": \"$YearsSinceLastPromotion\"\n",
    "        }, \"Avg_YearsWithCurrManager\": { # Average Years with current manager\n",
    "            \"$avg\": \"$YearsWithCurrManager\"\n",
    "        }\n",
    "    }\n",
    "}])\n",
    "list(descriptive_statistics)\n",
    "# DistanceFromHome RelationshipSatisfaction PercentSalaryHike EnvironmentSatisfaction \n",
    "# YearsAtCompany YearsInCurrentRole YearsSinceLastPromotion YearsWithCurrManager"
   ]
  },
  {
   "cell_type": "code",
   "execution_count": 7,
   "id": "92b74791",
   "metadata": {
    "cell_style": "split"
   },
   "outputs": [
    {
     "data": {
      "text/plain": [
       "[{'_id': ['Yes', 'Male'], 'CNT': 150},\n",
       " {'_id': ['No', 'Male'], 'CNT': 732},\n",
       " {'_id': ['Yes', 'Female'], 'CNT': 87},\n",
       " {'_id': ['No', 'Female'], 'CNT': 501}]"
      ]
     },
     "execution_count": 7,
     "metadata": {},
     "output_type": "execute_result"
    }
   ],
   "source": [
    "# Categorical Variables Crosstabulation\n",
    "# Gender pivoting\n",
    "descriptive_gender = mycol.aggregate([{\n",
    "    \"$group\": {\n",
    "        \"_id\": [\"$Attrition\", \"$Gender\"],\n",
    "        \"CNT\": {\n",
    "            \"$count\": {}\n",
    "        }\n",
    "    }\n",
    "}])\n",
    "list(descriptive_gender)"
   ]
  },
  {
   "cell_type": "code",
   "execution_count": 8,
   "id": "a99a6a69",
   "metadata": {
    "cell_style": "split"
   },
   "outputs": [
    {
     "data": {
      "text/plain": [
       "[{'_id': ['No', 'Travel_Frequently'], 'CNT': 208},\n",
       " {'_id': ['No', 'Non-Travel'], 'CNT': 138},\n",
       " {'_id': ['Yes', 'Travel_Frequently'], 'CNT': 69},\n",
       " {'_id': ['Yes', 'Non-Travel'], 'CNT': 12},\n",
       " {'_id': ['Yes', 'Travel_Rarely'], 'CNT': 156},\n",
       " {'_id': ['No', 'Travel_Rarely'], 'CNT': 887}]"
      ]
     },
     "execution_count": 8,
     "metadata": {},
     "output_type": "execute_result"
    }
   ],
   "source": [
    "# Categorical Variables Crosstabulation\n",
    "# BusinessTravel pivoting\n",
    "descriptive_BusinessTravel = mycol.aggregate([{\n",
    "    \"$group\": {\n",
    "        \"_id\": [\"$Attrition\", \"$BusinessTravel\"],\n",
    "        \"CNT\": {\n",
    "            \"$count\": {}\n",
    "        }\n",
    "    }\n",
    "}])\n",
    "list(descriptive_BusinessTravel)"
   ]
  },
  {
   "cell_type": "code",
   "execution_count": null,
   "id": "a431376e",
   "metadata": {},
   "outputs": [],
   "source": []
  },
  {
   "cell_type": "code",
   "execution_count": 9,
   "id": "1b161f6f",
   "metadata": {
    "cell_style": "split"
   },
   "outputs": [
    {
     "data": {
      "text/plain": [
       "[{'_id': ['Yes', 'Sales'], 'CNT': 92},\n",
       " {'_id': ['No', 'Research & Development'], 'CNT': 828},\n",
       " {'_id': ['No', 'Human Resources'], 'CNT': 51},\n",
       " {'_id': ['Yes', 'Human Resources'], 'CNT': 12},\n",
       " {'_id': ['Yes', 'Research & Development'], 'CNT': 133},\n",
       " {'_id': ['No', 'Sales'], 'CNT': 354}]"
      ]
     },
     "execution_count": 9,
     "metadata": {},
     "output_type": "execute_result"
    }
   ],
   "source": [
    "# Categorical Variables Crosstabulation\n",
    "# Department pivoting\n",
    "descriptive_Department = mycol.aggregate([{\n",
    "    \"$group\": {\n",
    "        \"_id\": [\"$Attrition\", \"$Department\"],\n",
    "        \"CNT\": {\n",
    "            \"$count\": {}\n",
    "        }\n",
    "    }\n",
    "}])\n",
    "list(descriptive_Department)"
   ]
  },
  {
   "cell_type": "code",
   "execution_count": 10,
   "id": "50e4105b",
   "metadata": {
    "cell_style": "split"
   },
   "outputs": [
    {
     "data": {
      "text/plain": [
       "[{'_id': ['Yes', 4], 'CNT': 58},\n",
       " {'_id': ['No', 5], 'CNT': 43},\n",
       " {'_id': ['Yes', 5], 'CNT': 5},\n",
       " {'_id': ['Yes', 3], 'CNT': 99},\n",
       " {'_id': ['No', 2], 'CNT': 238},\n",
       " {'_id': ['No', 1], 'CNT': 139},\n",
       " {'_id': ['No', 3], 'CNT': 473},\n",
       " {'_id': ['Yes', 2], 'CNT': 44},\n",
       " {'_id': ['No', 4], 'CNT': 340},\n",
       " {'_id': ['Yes', 1], 'CNT': 31}]"
      ]
     },
     "execution_count": 10,
     "metadata": {},
     "output_type": "execute_result"
    }
   ],
   "source": [
    "# Categorical Variables Crosstabulation\n",
    "# Education pivoting\n",
    "descriptive_Education = mycol.aggregate([{\n",
    "    \"$group\": {\n",
    "        \"_id\": [\"$Attrition\", \"$Education\"],\n",
    "        \"CNT\": {\n",
    "            \"$count\": {}\n",
    "        }\n",
    "    }\n",
    "}])\n",
    "list(descriptive_Education)"
   ]
  },
  {
   "cell_type": "code",
   "execution_count": null,
   "id": "50ebaee7",
   "metadata": {},
   "outputs": [],
   "source": []
  },
  {
   "cell_type": "code",
   "execution_count": 11,
   "id": "7356603b",
   "metadata": {
    "cell_style": "split"
   },
   "outputs": [
    {
     "data": {
      "text/plain": [
       "[{'_id': ['Yes', 2], 'CNT': 71},\n",
       " {'_id': ['Yes', 3], 'CNT': 125},\n",
       " {'_id': ['No', 2], 'CNT': 304},\n",
       " {'_id': ['No', 3], 'CNT': 743},\n",
       " {'_id': ['No', 1], 'CNT': 55},\n",
       " {'_id': ['Yes', 4], 'CNT': 13},\n",
       " {'_id': ['No', 4], 'CNT': 131},\n",
       " {'_id': ['Yes', 1], 'CNT': 28}]"
      ]
     },
     "execution_count": 11,
     "metadata": {},
     "output_type": "execute_result"
    }
   ],
   "source": [
    "# Categorical Variables Crosstabulation\n",
    "# JobInvolvement pivoting\n",
    "descriptive_JobInvolvement = mycol.aggregate([{\n",
    "    \"$group\": {\n",
    "        \"_id\": [\"$Attrition\", \"$JobInvolvement\"],\n",
    "        \"CNT\": {\n",
    "            \"$count\": {}\n",
    "        }\n",
    "    }\n",
    "}])\n",
    "list(descriptive_JobInvolvement)"
   ]
  },
  {
   "cell_type": "code",
   "execution_count": 12,
   "id": "51aa31fa",
   "metadata": {
    "cell_style": "split"
   },
   "outputs": [
    {
     "data": {
      "text/plain": [
       "[{'_id': ['Yes', 'Human Resources'], 'CNT': 7},\n",
       " {'_id': ['Yes', 'Other'], 'CNT': 11},\n",
       " {'_id': ['No', 'Other'], 'CNT': 71},\n",
       " {'_id': ['No', 'Human Resources'], 'CNT': 20},\n",
       " {'_id': ['No', 'Medical'], 'CNT': 401},\n",
       " {'_id': ['No', 'Marketing'], 'CNT': 124},\n",
       " {'_id': ['No', 'Life Sciences'], 'CNT': 517},\n",
       " {'_id': ['Yes', 'Life Sciences'], 'CNT': 89},\n",
       " {'_id': ['Yes', 'Medical'], 'CNT': 63},\n",
       " {'_id': ['Yes', 'Marketing'], 'CNT': 35},\n",
       " {'_id': ['Yes', 'Technical Degree'], 'CNT': 32},\n",
       " {'_id': ['No', 'Technical Degree'], 'CNT': 100}]"
      ]
     },
     "execution_count": 12,
     "metadata": {},
     "output_type": "execute_result"
    }
   ],
   "source": [
    "# Categorical Variables Crosstabulation\n",
    "# EducationField pivoting\n",
    "descriptive_EducationField = mycol.aggregate([{\n",
    "    \"$group\": {\n",
    "        \"_id\": [\"$Attrition\", \"$EducationField\"],\n",
    "        \"CNT\": {\n",
    "            \"$count\": {}\n",
    "        }\n",
    "    }\n",
    "}])\n",
    "list(descriptive_EducationField)"
   ]
  },
  {
   "cell_type": "code",
   "execution_count": null,
   "id": "dd095081",
   "metadata": {},
   "outputs": [],
   "source": []
  },
  {
   "cell_type": "code",
   "execution_count": 13,
   "id": "4ed91ec7",
   "metadata": {
    "cell_style": "split"
   },
   "outputs": [
    {
     "data": {
      "text/plain": [
       "[{'_id': ['No', 'Research Director'], 'CNT': 78},\n",
       " {'_id': ['Yes', 'Human Resources'], 'CNT': 12},\n",
       " {'_id': ['No', 'Manufacturing Director'], 'CNT': 135},\n",
       " {'_id': ['Yes', 'Sales Executive'], 'CNT': 57},\n",
       " {'_id': ['No', 'Human Resources'], 'CNT': 40},\n",
       " {'_id': ['Yes', 'Healthcare Representative'], 'CNT': 9},\n",
       " {'_id': ['Yes', 'Research Director'], 'CNT': 2},\n",
       " {'_id': ['No', 'Sales Executive'], 'CNT': 269},\n",
       " {'_id': ['Yes', 'Laboratory Technician'], 'CNT': 62},\n",
       " {'_id': ['No', 'Laboratory Technician'], 'CNT': 197},\n",
       " {'_id': ['No', 'Research Scientist'], 'CNT': 245},\n",
       " {'_id': ['Yes', 'Manufacturing Director'], 'CNT': 10},\n",
       " {'_id': ['No', 'Healthcare Representative'], 'CNT': 122},\n",
       " {'_id': ['No', 'Manager'], 'CNT': 97},\n",
       " {'_id': ['Yes', 'Sales Representative'], 'CNT': 33},\n",
       " {'_id': ['No', 'Sales Representative'], 'CNT': 50},\n",
       " {'_id': ['Yes', 'Manager'], 'CNT': 5},\n",
       " {'_id': ['Yes', 'Research Scientist'], 'CNT': 47}]"
      ]
     },
     "execution_count": 13,
     "metadata": {},
     "output_type": "execute_result"
    }
   ],
   "source": [
    "# Categorical Variables Crosstabulation\n",
    "# JobRole pivoting\n",
    "descriptive_JobRole = mycol.aggregate([{\n",
    "    \"$group\": {\n",
    "        \"_id\": [\"$Attrition\", \"$JobRole\"],\n",
    "        \"CNT\": {\n",
    "            \"$count\": {}\n",
    "        }\n",
    "    }\n",
    "}])\n",
    "list(descriptive_JobRole)"
   ]
  },
  {
   "cell_type": "code",
   "execution_count": 14,
   "id": "ac3756ed",
   "metadata": {
    "cell_style": "split"
   },
   "outputs": [
    {
     "data": {
      "text/plain": [
       "[{'_id': ['Yes', 'Single'], 'CNT': 120},\n",
       " {'_id': ['No', 'Single'], 'CNT': 350},\n",
       " {'_id': ['No', 'Married'], 'CNT': 589},\n",
       " {'_id': ['Yes', 'Divorced'], 'CNT': 33},\n",
       " {'_id': ['No', 'Divorced'], 'CNT': 294},\n",
       " {'_id': ['Yes', 'Married'], 'CNT': 84}]"
      ]
     },
     "execution_count": 14,
     "metadata": {},
     "output_type": "execute_result"
    }
   ],
   "source": [
    "# Categorical Variables Crosstabulation\n",
    "# MaritalStatus pivoting\n",
    "descriptive_MaritalStatus = mycol.aggregate([{\n",
    "    \"$group\": {\n",
    "        \"_id\": [\"$Attrition\", \"$MaritalStatus\"],\n",
    "        \"CNT\": {\n",
    "            \"$count\": {}\n",
    "        }\n",
    "    }\n",
    "}])\n",
    "list(descriptive_MaritalStatus)"
   ]
  },
  {
   "cell_type": "code",
   "execution_count": null,
   "id": "a371c0be",
   "metadata": {},
   "outputs": [],
   "source": []
  },
  {
   "cell_type": "code",
   "execution_count": 15,
   "id": "d44daa0e",
   "metadata": {
    "cell_style": "split"
   },
   "outputs": [
    {
     "data": {
      "text/plain": [
       "[{'_id': ['No', 'Y'], 'CNT': 1233}, {'_id': ['Yes', 'Y'], 'CNT': 237}]"
      ]
     },
     "execution_count": 15,
     "metadata": {},
     "output_type": "execute_result"
    }
   ],
   "source": [
    "# Categorical Variables Crosstabulation\n",
    "# Over18 pivoting\n",
    "descriptive_Over18 = mycol.aggregate([{\n",
    "    \"$group\": {\n",
    "        \"_id\": [\"$Attrition\", \"$Over18\"],\n",
    "        \"CNT\": {\n",
    "            \"$count\": {}\n",
    "        }\n",
    "    }\n",
    "}])\n",
    "list(descriptive_Over18)"
   ]
  },
  {
   "cell_type": "code",
   "execution_count": 16,
   "id": "a0656c6a",
   "metadata": {
    "cell_style": "split"
   },
   "outputs": [
    {
     "data": {
      "text/plain": [
       "[{'_id': ['Yes', 'No'], 'CNT': 110},\n",
       " {'_id': ['No', 'No'], 'CNT': 944},\n",
       " {'_id': ['No', 'Yes'], 'CNT': 289},\n",
       " {'_id': ['Yes', 'Yes'], 'CNT': 127}]"
      ]
     },
     "execution_count": 16,
     "metadata": {},
     "output_type": "execute_result"
    }
   ],
   "source": [
    "# Categorical Variables Crosstabulation\n",
    "# OverTime pivoting\n",
    "descriptive_OverTime = mycol.aggregate([{\n",
    "    \"$group\": {\n",
    "        \"_id\": [\"$Attrition\", \"$OverTime\"],\n",
    "        \"CNT\": {\n",
    "            \"$count\": {}\n",
    "        }\n",
    "    }\n",
    "}])\n",
    "list(descriptive_OverTime)"
   ]
  },
  {
   "cell_type": "markdown",
   "id": "5674d64a",
   "metadata": {},
   "source": [
    "## Descriptive Statistics with Panadas"
   ]
  },
  {
   "cell_type": "code",
   "execution_count": 17,
   "id": "3db58412",
   "metadata": {},
   "outputs": [
    {
     "name": "stderr",
     "output_type": "stream",
     "text": [
      "C:\\Users\\yunsi\\AppData\\Local\\Temp\\ipykernel_3092\\1780835660.py:2: FutureWarning: ['_id', 'BusinessTravel', 'Department', 'EducationField', 'Gender', 'JobRole', 'MaritalStatus', 'Over18', 'OverTime'] did not aggregate successfully. If any error is raised this will raise in a future version of pandas. Drop these columns/ops to avoid this warning.\n",
      "  df.groupby('Attrition').agg(['mean', 'count']).round(decimals=2)\n"
     ]
    },
    {
     "data": {
      "text/html": [
       "<div>\n",
       "<style scoped>\n",
       "    .dataframe tbody tr th:only-of-type {\n",
       "        vertical-align: middle;\n",
       "    }\n",
       "\n",
       "    .dataframe tbody tr th {\n",
       "        vertical-align: top;\n",
       "    }\n",
       "\n",
       "    .dataframe thead tr th {\n",
       "        text-align: left;\n",
       "    }\n",
       "\n",
       "    .dataframe thead tr:last-of-type th {\n",
       "        text-align: right;\n",
       "    }\n",
       "</style>\n",
       "<table border=\"1\" class=\"dataframe\">\n",
       "  <thead>\n",
       "    <tr>\n",
       "      <th></th>\n",
       "      <th colspan=\"2\" halign=\"left\">Age</th>\n",
       "      <th colspan=\"2\" halign=\"left\">DailyRate</th>\n",
       "      <th colspan=\"2\" halign=\"left\">DistanceFromHome</th>\n",
       "      <th colspan=\"2\" halign=\"left\">Education</th>\n",
       "      <th colspan=\"2\" halign=\"left\">EmployeeCount</th>\n",
       "      <th colspan=\"2\" halign=\"left\">EmployeeNumber</th>\n",
       "      <th colspan=\"2\" halign=\"left\">EnvironmentSatisfaction</th>\n",
       "      <th colspan=\"2\" halign=\"left\">HourlyRate</th>\n",
       "      <th colspan=\"2\" halign=\"left\">JobInvolvement</th>\n",
       "      <th colspan=\"2\" halign=\"left\">JobLevel</th>\n",
       "      <th colspan=\"2\" halign=\"left\">JobSatisfaction</th>\n",
       "      <th colspan=\"2\" halign=\"left\">MonthlyIncome</th>\n",
       "      <th colspan=\"2\" halign=\"left\">MonthlyRate</th>\n",
       "      <th colspan=\"2\" halign=\"left\">NumCompaniesWorked</th>\n",
       "      <th colspan=\"2\" halign=\"left\">PercentSalaryHike</th>\n",
       "      <th colspan=\"2\" halign=\"left\">PerformanceRating</th>\n",
       "      <th colspan=\"2\" halign=\"left\">RelationshipSatisfaction</th>\n",
       "      <th colspan=\"2\" halign=\"left\">StandardHours</th>\n",
       "      <th colspan=\"2\" halign=\"left\">StockOptionLevel</th>\n",
       "      <th colspan=\"2\" halign=\"left\">TotalWorkingYears</th>\n",
       "      <th colspan=\"2\" halign=\"left\">TrainingTimesLastYear</th>\n",
       "      <th colspan=\"2\" halign=\"left\">WorkLifeBalance</th>\n",
       "      <th colspan=\"2\" halign=\"left\">YearsAtCompany</th>\n",
       "      <th colspan=\"2\" halign=\"left\">YearsInCurrentRole</th>\n",
       "      <th colspan=\"2\" halign=\"left\">YearsSinceLastPromotion</th>\n",
       "      <th colspan=\"2\" halign=\"left\">YearsWithCurrManager</th>\n",
       "    </tr>\n",
       "    <tr>\n",
       "      <th></th>\n",
       "      <th>mean</th>\n",
       "      <th>count</th>\n",
       "      <th>mean</th>\n",
       "      <th>count</th>\n",
       "      <th>mean</th>\n",
       "      <th>count</th>\n",
       "      <th>mean</th>\n",
       "      <th>count</th>\n",
       "      <th>mean</th>\n",
       "      <th>count</th>\n",
       "      <th>mean</th>\n",
       "      <th>count</th>\n",
       "      <th>mean</th>\n",
       "      <th>count</th>\n",
       "      <th>mean</th>\n",
       "      <th>count</th>\n",
       "      <th>mean</th>\n",
       "      <th>count</th>\n",
       "      <th>mean</th>\n",
       "      <th>count</th>\n",
       "      <th>mean</th>\n",
       "      <th>count</th>\n",
       "      <th>mean</th>\n",
       "      <th>count</th>\n",
       "      <th>mean</th>\n",
       "      <th>count</th>\n",
       "      <th>mean</th>\n",
       "      <th>count</th>\n",
       "      <th>mean</th>\n",
       "      <th>count</th>\n",
       "      <th>mean</th>\n",
       "      <th>count</th>\n",
       "      <th>mean</th>\n",
       "      <th>count</th>\n",
       "      <th>mean</th>\n",
       "      <th>count</th>\n",
       "      <th>mean</th>\n",
       "      <th>count</th>\n",
       "      <th>mean</th>\n",
       "      <th>count</th>\n",
       "      <th>mean</th>\n",
       "      <th>count</th>\n",
       "      <th>mean</th>\n",
       "      <th>count</th>\n",
       "      <th>mean</th>\n",
       "      <th>count</th>\n",
       "      <th>mean</th>\n",
       "      <th>count</th>\n",
       "      <th>mean</th>\n",
       "      <th>count</th>\n",
       "      <th>mean</th>\n",
       "      <th>count</th>\n",
       "    </tr>\n",
       "    <tr>\n",
       "      <th>Attrition</th>\n",
       "      <th></th>\n",
       "      <th></th>\n",
       "      <th></th>\n",
       "      <th></th>\n",
       "      <th></th>\n",
       "      <th></th>\n",
       "      <th></th>\n",
       "      <th></th>\n",
       "      <th></th>\n",
       "      <th></th>\n",
       "      <th></th>\n",
       "      <th></th>\n",
       "      <th></th>\n",
       "      <th></th>\n",
       "      <th></th>\n",
       "      <th></th>\n",
       "      <th></th>\n",
       "      <th></th>\n",
       "      <th></th>\n",
       "      <th></th>\n",
       "      <th></th>\n",
       "      <th></th>\n",
       "      <th></th>\n",
       "      <th></th>\n",
       "      <th></th>\n",
       "      <th></th>\n",
       "      <th></th>\n",
       "      <th></th>\n",
       "      <th></th>\n",
       "      <th></th>\n",
       "      <th></th>\n",
       "      <th></th>\n",
       "      <th></th>\n",
       "      <th></th>\n",
       "      <th></th>\n",
       "      <th></th>\n",
       "      <th></th>\n",
       "      <th></th>\n",
       "      <th></th>\n",
       "      <th></th>\n",
       "      <th></th>\n",
       "      <th></th>\n",
       "      <th></th>\n",
       "      <th></th>\n",
       "      <th></th>\n",
       "      <th></th>\n",
       "      <th></th>\n",
       "      <th></th>\n",
       "      <th></th>\n",
       "      <th></th>\n",
       "      <th></th>\n",
       "      <th></th>\n",
       "    </tr>\n",
       "  </thead>\n",
       "  <tbody>\n",
       "    <tr>\n",
       "      <th>No</th>\n",
       "      <td>37.56</td>\n",
       "      <td>1233</td>\n",
       "      <td>812.50</td>\n",
       "      <td>1233</td>\n",
       "      <td>8.92</td>\n",
       "      <td>1233</td>\n",
       "      <td>2.93</td>\n",
       "      <td>1233</td>\n",
       "      <td>1.0</td>\n",
       "      <td>1233</td>\n",
       "      <td>1027.66</td>\n",
       "      <td>1233</td>\n",
       "      <td>2.77</td>\n",
       "      <td>1233</td>\n",
       "      <td>65.95</td>\n",
       "      <td>1233</td>\n",
       "      <td>2.77</td>\n",
       "      <td>1233</td>\n",
       "      <td>2.15</td>\n",
       "      <td>1233</td>\n",
       "      <td>2.78</td>\n",
       "      <td>1233</td>\n",
       "      <td>6832.74</td>\n",
       "      <td>1233</td>\n",
       "      <td>14265.78</td>\n",
       "      <td>1233</td>\n",
       "      <td>2.65</td>\n",
       "      <td>1233</td>\n",
       "      <td>15.23</td>\n",
       "      <td>1233</td>\n",
       "      <td>3.15</td>\n",
       "      <td>1233</td>\n",
       "      <td>2.73</td>\n",
       "      <td>1233</td>\n",
       "      <td>80.0</td>\n",
       "      <td>1233</td>\n",
       "      <td>0.85</td>\n",
       "      <td>1233</td>\n",
       "      <td>11.86</td>\n",
       "      <td>1233</td>\n",
       "      <td>2.83</td>\n",
       "      <td>1233</td>\n",
       "      <td>2.78</td>\n",
       "      <td>1233</td>\n",
       "      <td>7.37</td>\n",
       "      <td>1233</td>\n",
       "      <td>4.48</td>\n",
       "      <td>1233</td>\n",
       "      <td>2.23</td>\n",
       "      <td>1233</td>\n",
       "      <td>4.37</td>\n",
       "      <td>1233</td>\n",
       "    </tr>\n",
       "    <tr>\n",
       "      <th>Yes</th>\n",
       "      <td>33.61</td>\n",
       "      <td>237</td>\n",
       "      <td>750.36</td>\n",
       "      <td>237</td>\n",
       "      <td>10.63</td>\n",
       "      <td>237</td>\n",
       "      <td>2.84</td>\n",
       "      <td>237</td>\n",
       "      <td>1.0</td>\n",
       "      <td>237</td>\n",
       "      <td>1010.35</td>\n",
       "      <td>237</td>\n",
       "      <td>2.46</td>\n",
       "      <td>237</td>\n",
       "      <td>65.57</td>\n",
       "      <td>237</td>\n",
       "      <td>2.52</td>\n",
       "      <td>237</td>\n",
       "      <td>1.64</td>\n",
       "      <td>237</td>\n",
       "      <td>2.47</td>\n",
       "      <td>237</td>\n",
       "      <td>4787.09</td>\n",
       "      <td>237</td>\n",
       "      <td>14559.31</td>\n",
       "      <td>237</td>\n",
       "      <td>2.94</td>\n",
       "      <td>237</td>\n",
       "      <td>15.10</td>\n",
       "      <td>237</td>\n",
       "      <td>3.16</td>\n",
       "      <td>237</td>\n",
       "      <td>2.60</td>\n",
       "      <td>237</td>\n",
       "      <td>80.0</td>\n",
       "      <td>237</td>\n",
       "      <td>0.53</td>\n",
       "      <td>237</td>\n",
       "      <td>8.24</td>\n",
       "      <td>237</td>\n",
       "      <td>2.62</td>\n",
       "      <td>237</td>\n",
       "      <td>2.66</td>\n",
       "      <td>237</td>\n",
       "      <td>5.13</td>\n",
       "      <td>237</td>\n",
       "      <td>2.90</td>\n",
       "      <td>237</td>\n",
       "      <td>1.95</td>\n",
       "      <td>237</td>\n",
       "      <td>2.85</td>\n",
       "      <td>237</td>\n",
       "    </tr>\n",
       "  </tbody>\n",
       "</table>\n",
       "</div>"
      ],
      "text/plain": [
       "             Age       DailyRate       DistanceFromHome       Education       EmployeeCount       EmployeeNumber       EnvironmentSatisfaction       HourlyRate       JobInvolvement       JobLevel       JobSatisfaction       MonthlyIncome       MonthlyRate       NumCompaniesWorked       PercentSalaryHike       PerformanceRating       RelationshipSatisfaction       StandardHours       StockOptionLevel       TotalWorkingYears       TrainingTimesLastYear       WorkLifeBalance       YearsAtCompany       YearsInCurrentRole       YearsSinceLastPromotion       YearsWithCurrManager      \n",
       "            mean count      mean count             mean count      mean count          mean count           mean count                    mean count       mean count           mean count     mean count            mean count          mean count        mean count               mean count              mean count              mean count                     mean count          mean count             mean count              mean count                  mean count            mean count           mean count               mean count                    mean count                 mean count\n",
       "Attrition                                                                                                                                                                                                                                                                                                                                                                                                                                                                                                                                                                                                \n",
       "No         37.56  1233    812.50  1233             8.92  1233      2.93  1233           1.0  1233        1027.66  1233                    2.77  1233      65.95  1233           2.77  1233     2.15  1233            2.78  1233       6832.74  1233    14265.78  1233               2.65  1233             15.23  1233              3.15  1233                     2.73  1233          80.0  1233             0.85  1233             11.86  1233                  2.83  1233            2.78  1233           7.37  1233               4.48  1233                    2.23  1233                 4.37  1233\n",
       "Yes        33.61   237    750.36   237            10.63   237      2.84   237           1.0   237        1010.35   237                    2.46   237      65.57   237           2.52   237     1.64   237            2.47   237       4787.09   237    14559.31   237               2.94   237             15.10   237              3.16   237                     2.60   237          80.0   237             0.53   237              8.24   237                  2.62   237            2.66   237           5.13   237               2.90   237                    1.95   237                 2.85   237"
      ]
     },
     "execution_count": 17,
     "metadata": {},
     "output_type": "execute_result"
    }
   ],
   "source": [
    "# Descriptive statistics with pandas Numerical variables\n",
    "df.groupby('Attrition').agg(['mean', 'count']).round(decimals=2)"
   ]
  },
  {
   "cell_type": "code",
   "execution_count": 18,
   "id": "40cb33a3",
   "metadata": {
    "cell_style": "split",
    "scrolled": false
   },
   "outputs": [
    {
     "data": {
      "text/html": [
       "<div>\n",
       "<style scoped>\n",
       "    .dataframe tbody tr th:only-of-type {\n",
       "        vertical-align: middle;\n",
       "    }\n",
       "\n",
       "    .dataframe tbody tr th {\n",
       "        vertical-align: top;\n",
       "    }\n",
       "\n",
       "    .dataframe thead th {\n",
       "        text-align: right;\n",
       "    }\n",
       "</style>\n",
       "<table border=\"1\" class=\"dataframe\">\n",
       "  <thead>\n",
       "    <tr style=\"text-align: right;\">\n",
       "      <th>Attrition</th>\n",
       "      <th>No</th>\n",
       "      <th>Yes</th>\n",
       "    </tr>\n",
       "    <tr>\n",
       "      <th>Gender</th>\n",
       "      <th></th>\n",
       "      <th></th>\n",
       "    </tr>\n",
       "  </thead>\n",
       "  <tbody>\n",
       "    <tr>\n",
       "      <th>Female</th>\n",
       "      <td>501</td>\n",
       "      <td>87</td>\n",
       "    </tr>\n",
       "    <tr>\n",
       "      <th>Male</th>\n",
       "      <td>732</td>\n",
       "      <td>150</td>\n",
       "    </tr>\n",
       "  </tbody>\n",
       "</table>\n",
       "</div>"
      ],
      "text/plain": [
       "Attrition   No  Yes\n",
       "Gender             \n",
       "Female     501   87\n",
       "Male       732  150"
      ]
     },
     "metadata": {},
     "output_type": "display_data"
    },
    {
     "data": {
      "image/png": "[encoded data removed]",
      "text/plain": [
       "<Figure size 640x480 with 1 Axes>"
      ]
     },
     "metadata": {},
     "output_type": "display_data"
    }
   ],
   "source": [
    "# Categorical Variables Crosstabulation in Pandas\n",
    "# Visualize stacked percentage bar chart\n",
    "col = 'Gender'\n",
    "display(pd.crosstab(\n",
    "    columns=df['Attrition'], \n",
    "    index=df[col]\n",
    "))\n",
    "pd.crosstab(\n",
    "    index=df['Attrition'], \n",
    "    columns=df[col],\n",
    "    normalize='index'\n",
    ").plot(kind='bar', stacked=True,\n",
    "      title=col + \" x Attrition Proportion(%)\")\n",
    "plt.ylim(0,1)\n",
    "plt.yticks(plt.yticks()[0], ['{:,.0%}'.format(x) for x in plt.yticks()[0]])\n",
    "plt.show()"
   ]
  },
  {
   "cell_type": "code",
   "execution_count": 19,
   "id": "39a3eb5c",
   "metadata": {
    "cell_style": "split"
   },
   "outputs": [
    {
     "data": {
      "text/html": [
       "<div>\n",
       "<style scoped>\n",
       "    .dataframe tbody tr th:only-of-type {\n",
       "        vertical-align: middle;\n",
       "    }\n",
       "\n",
       "    .dataframe tbody tr th {\n",
       "        vertical-align: top;\n",
       "    }\n",
       "\n",
       "    .dataframe thead th {\n",
       "        text-align: right;\n",
       "    }\n",
       "</style>\n",
       "<table border=\"1\" class=\"dataframe\">\n",
       "  <thead>\n",
       "    <tr style=\"text-align: right;\">\n",
       "      <th>Attrition</th>\n",
       "      <th>No</th>\n",
       "      <th>Yes</th>\n",
       "    </tr>\n",
       "    <tr>\n",
       "      <th>BusinessTravel</th>\n",
       "      <th></th>\n",
       "      <th></th>\n",
       "    </tr>\n",
       "  </thead>\n",
       "  <tbody>\n",
       "    <tr>\n",
       "      <th>Non-Travel</th>\n",
       "      <td>138</td>\n",
       "      <td>12</td>\n",
       "    </tr>\n",
       "    <tr>\n",
       "      <th>Travel_Frequently</th>\n",
       "      <td>208</td>\n",
       "      <td>69</td>\n",
       "    </tr>\n",
       "    <tr>\n",
       "      <th>Travel_Rarely</th>\n",
       "      <td>887</td>\n",
       "      <td>156</td>\n",
       "    </tr>\n",
       "  </tbody>\n",
       "</table>\n",
       "</div>"
      ],
      "text/plain": [
       "Attrition           No  Yes\n",
       "BusinessTravel             \n",
       "Non-Travel         138   12\n",
       "Travel_Frequently  208   69\n",
       "Travel_Rarely      887  156"
      ]
     },
     "metadata": {},
     "output_type": "display_data"
    },
    {
     "data": {
      "image/png": "[encoded data removed]",
      "text/plain": [
       "<Figure size 640x480 with 1 Axes>"
      ]
     },
     "metadata": {},
     "output_type": "display_data"
    }
   ],
   "source": [
    "# Categorical Variables Crosstabulation in Pandas\n",
    "# Visualize stacked percentage bar chart\n",
    "col = 'BusinessTravel'\n",
    "display(pd.crosstab(\n",
    "    columns=df['Attrition'], \n",
    "    index=df[col]\n",
    "))\n",
    "pd.crosstab(\n",
    "    index=df['Attrition'], \n",
    "    columns=df[col],\n",
    "    normalize='index'\n",
    ").plot(kind='bar', stacked=True,\n",
    "      title=col + \" x Attrition Proportion(%)\")\n",
    "plt.ylim(0,1)\n",
    "plt.yticks(plt.yticks()[0], ['{:,.0%}'.format(x) for x in plt.yticks()[0]])\n",
    "plt.show()"
   ]
  },
  {
   "cell_type": "code",
   "execution_count": null,
   "id": "cc9be577",
   "metadata": {},
   "outputs": [],
   "source": []
  },
  {
   "cell_type": "code",
   "execution_count": 20,
   "id": "47cb604d",
   "metadata": {
    "cell_style": "split"
   },
   "outputs": [
    {
     "data": {
      "text/html": [
       "<div>\n",
       "<style scoped>\n",
       "    .dataframe tbody tr th:only-of-type {\n",
       "        vertical-align: middle;\n",
       "    }\n",
       "\n",
       "    .dataframe tbody tr th {\n",
       "        vertical-align: top;\n",
       "    }\n",
       "\n",
       "    .dataframe thead th {\n",
       "        text-align: right;\n",
       "    }\n",
       "</style>\n",
       "<table border=\"1\" class=\"dataframe\">\n",
       "  <thead>\n",
       "    <tr style=\"text-align: right;\">\n",
       "      <th>Attrition</th>\n",
       "      <th>No</th>\n",
       "      <th>Yes</th>\n",
       "    </tr>\n",
       "    <tr>\n",
       "      <th>Department</th>\n",
       "      <th></th>\n",
       "      <th></th>\n",
       "    </tr>\n",
       "  </thead>\n",
       "  <tbody>\n",
       "    <tr>\n",
       "      <th>Human Resources</th>\n",
       "      <td>51</td>\n",
       "      <td>12</td>\n",
       "    </tr>\n",
       "    <tr>\n",
       "      <th>Research &amp; Development</th>\n",
       "      <td>828</td>\n",
       "      <td>133</td>\n",
       "    </tr>\n",
       "    <tr>\n",
       "      <th>Sales</th>\n",
       "      <td>354</td>\n",
       "      <td>92</td>\n",
       "    </tr>\n",
       "  </tbody>\n",
       "</table>\n",
       "</div>"
      ],
      "text/plain": [
       "Attrition                No  Yes\n",
       "Department                      \n",
       "Human Resources          51   12\n",
       "Research & Development  828  133\n",
       "Sales                   354   92"
      ]
     },
     "metadata": {},
     "output_type": "display_data"
    },
    {
     "data": {
      "image/png": "[encoded data removed]",
      "text/plain": [
       "<Figure size 640x480 with 1 Axes>"
      ]
     },
     "metadata": {},
     "output_type": "display_data"
    }
   ],
   "source": [
    "# Categorical Variables Crosstabulation in Pandas\n",
    "# Visualize stacked percentage bar chart\n",
    "col = 'Department'\n",
    "display(pd.crosstab(\n",
    "    columns=df['Attrition'], \n",
    "    index=df[col]\n",
    "))\n",
    "pd.crosstab(\n",
    "    index=df['Attrition'], \n",
    "    columns=df[col],\n",
    "    normalize='index'\n",
    ").plot(kind='bar', stacked=True,\n",
    "      title=col + \" x Attrition Proportion(%)\")\n",
    "plt.ylim(0,1)\n",
    "plt.yticks(plt.yticks()[0], ['{:,.0%}'.format(x) for x in plt.yticks()[0]])\n",
    "plt.show()"
   ]
  },
  {
   "cell_type": "code",
   "execution_count": 21,
   "id": "f0ba2353",
   "metadata": {
    "cell_style": "split"
   },
   "outputs": [
    {
     "data": {
      "text/html": [
       "<div>\n",
       "<style scoped>\n",
       "    .dataframe tbody tr th:only-of-type {\n",
       "        vertical-align: middle;\n",
       "    }\n",
       "\n",
       "    .dataframe tbody tr th {\n",
       "        vertical-align: top;\n",
       "    }\n",
       "\n",
       "    .dataframe thead th {\n",
       "        text-align: right;\n",
       "    }\n",
       "</style>\n",
       "<table border=\"1\" class=\"dataframe\">\n",
       "  <thead>\n",
       "    <tr style=\"text-align: right;\">\n",
       "      <th>Attrition</th>\n",
       "      <th>No</th>\n",
       "      <th>Yes</th>\n",
       "    </tr>\n",
       "    <tr>\n",
       "      <th>Education</th>\n",
       "      <th></th>\n",
       "      <th></th>\n",
       "    </tr>\n",
       "  </thead>\n",
       "  <tbody>\n",
       "    <tr>\n",
       "      <th>1</th>\n",
       "      <td>139</td>\n",
       "      <td>31</td>\n",
       "    </tr>\n",
       "    <tr>\n",
       "      <th>2</th>\n",
       "      <td>238</td>\n",
       "      <td>44</td>\n",
       "    </tr>\n",
       "    <tr>\n",
       "      <th>3</th>\n",
       "      <td>473</td>\n",
       "      <td>99</td>\n",
       "    </tr>\n",
       "    <tr>\n",
       "      <th>4</th>\n",
       "      <td>340</td>\n",
       "      <td>58</td>\n",
       "    </tr>\n",
       "    <tr>\n",
       "      <th>5</th>\n",
       "      <td>43</td>\n",
       "      <td>5</td>\n",
       "    </tr>\n",
       "  </tbody>\n",
       "</table>\n",
       "</div>"
      ],
      "text/plain": [
       "Attrition   No  Yes\n",
       "Education          \n",
       "1          139   31\n",
       "2          238   44\n",
       "3          473   99\n",
       "4          340   58\n",
       "5           43    5"
      ]
     },
     "metadata": {},
     "output_type": "display_data"
    },
    {
     "data": {
      "image/png": "[encoded data removed]",
      "text/plain": [
       "<Figure size 640x480 with 1 Axes>"
      ]
     },
     "metadata": {},
     "output_type": "display_data"
    }
   ],
   "source": [
    "# Categorical Variables Crosstabulation in Pandas\n",
    "# Visualize stacked percentage bar chart\n",
    "col = 'Education'\n",
    "display(pd.crosstab(\n",
    "    columns=df['Attrition'], \n",
    "    index=df[col]\n",
    "))\n",
    "pd.crosstab(\n",
    "    index=df['Attrition'], \n",
    "    columns=df[col],\n",
    "    normalize='index'\n",
    ").plot(kind='bar', stacked=True,\n",
    "      title=col + \" x Attrition Proportion(%)\")\n",
    "plt.ylim(0,1)\n",
    "plt.yticks(plt.yticks()[0], ['{:,.0%}'.format(x) for x in plt.yticks()[0]])\n",
    "plt.show()"
   ]
  },
  {
   "cell_type": "code",
   "execution_count": null,
   "id": "00698656",
   "metadata": {},
   "outputs": [],
   "source": []
  },
  {
   "cell_type": "code",
   "execution_count": 22,
   "id": "cf0d4cc3",
   "metadata": {
    "cell_style": "split"
   },
   "outputs": [
    {
     "data": {
      "text/html": [
       "<div>\n",
       "<style scoped>\n",
       "    .dataframe tbody tr th:only-of-type {\n",
       "        vertical-align: middle;\n",
       "    }\n",
       "\n",
       "    .dataframe tbody tr th {\n",
       "        vertical-align: top;\n",
       "    }\n",
       "\n",
       "    .dataframe thead th {\n",
       "        text-align: right;\n",
       "    }\n",
       "</style>\n",
       "<table border=\"1\" class=\"dataframe\">\n",
       "  <thead>\n",
       "    <tr style=\"text-align: right;\">\n",
       "      <th>Attrition</th>\n",
       "      <th>No</th>\n",
       "      <th>Yes</th>\n",
       "    </tr>\n",
       "    <tr>\n",
       "      <th>JobInvolvement</th>\n",
       "      <th></th>\n",
       "      <th></th>\n",
       "    </tr>\n",
       "  </thead>\n",
       "  <tbody>\n",
       "    <tr>\n",
       "      <th>1</th>\n",
       "      <td>55</td>\n",
       "      <td>28</td>\n",
       "    </tr>\n",
       "    <tr>\n",
       "      <th>2</th>\n",
       "      <td>304</td>\n",
       "      <td>71</td>\n",
       "    </tr>\n",
       "    <tr>\n",
       "      <th>3</th>\n",
       "      <td>743</td>\n",
       "      <td>125</td>\n",
       "    </tr>\n",
       "    <tr>\n",
       "      <th>4</th>\n",
       "      <td>131</td>\n",
       "      <td>13</td>\n",
       "    </tr>\n",
       "  </tbody>\n",
       "</table>\n",
       "</div>"
      ],
      "text/plain": [
       "Attrition        No  Yes\n",
       "JobInvolvement          \n",
       "1                55   28\n",
       "2               304   71\n",
       "3               743  125\n",
       "4               131   13"
      ]
     },
     "metadata": {},
     "output_type": "display_data"
    },
    {
     "data": {
      "image/png": "[encoded data removed]",
      "text/plain": [
       "<Figure size 640x480 with 1 Axes>"
      ]
     },
     "metadata": {},
     "output_type": "display_data"
    }
   ],
   "source": [
    "# Categorical Variables Crosstabulation in Pandas\n",
    "# Visualize stacked percentage bar chart\n",
    "col = 'JobInvolvement'\n",
    "display(pd.crosstab(\n",
    "    columns=df['Attrition'], \n",
    "    index=df[col]\n",
    "))\n",
    "pd.crosstab(\n",
    "    index=df['Attrition'], \n",
    "    columns=df[col],\n",
    "    normalize='index'\n",
    ").plot(kind='bar', stacked=True,\n",
    "      title=col + \" x Attrition Proportion(%)\")\n",
    "plt.ylim(0,1)\n",
    "plt.yticks(plt.yticks()[0], ['{:,.0%}'.format(x) for x in plt.yticks()[0]])\n",
    "plt.show()"
   ]
  },
  {
   "cell_type": "code",
   "execution_count": 23,
   "id": "ad0f0219",
   "metadata": {
    "cell_style": "split",
    "scrolled": false
   },
   "outputs": [
    {
     "data": {
      "text/html": [
       "<div>\n",
       "<style scoped>\n",
       "    .dataframe tbody tr th:only-of-type {\n",
       "        vertical-align: middle;\n",
       "    }\n",
       "\n",
       "    .dataframe tbody tr th {\n",
       "        vertical-align: top;\n",
       "    }\n",
       "\n",
       "    .dataframe thead th {\n",
       "        text-align: right;\n",
       "    }\n",
       "</style>\n",
       "<table border=\"1\" class=\"dataframe\">\n",
       "  <thead>\n",
       "    <tr style=\"text-align: right;\">\n",
       "      <th>Attrition</th>\n",
       "      <th>No</th>\n",
       "      <th>Yes</th>\n",
       "    </tr>\n",
       "    <tr>\n",
       "      <th>EducationField</th>\n",
       "      <th></th>\n",
       "      <th></th>\n",
       "    </tr>\n",
       "  </thead>\n",
       "  <tbody>\n",
       "    <tr>\n",
       "      <th>Human Resources</th>\n",
       "      <td>20</td>\n",
       "      <td>7</td>\n",
       "    </tr>\n",
       "    <tr>\n",
       "      <th>Life Sciences</th>\n",
       "      <td>517</td>\n",
       "      <td>89</td>\n",
       "    </tr>\n",
       "    <tr>\n",
       "      <th>Marketing</th>\n",
       "      <td>124</td>\n",
       "      <td>35</td>\n",
       "    </tr>\n",
       "    <tr>\n",
       "      <th>Medical</th>\n",
       "      <td>401</td>\n",
       "      <td>63</td>\n",
       "    </tr>\n",
       "    <tr>\n",
       "      <th>Other</th>\n",
       "      <td>71</td>\n",
       "      <td>11</td>\n",
       "    </tr>\n",
       "    <tr>\n",
       "      <th>Technical Degree</th>\n",
       "      <td>100</td>\n",
       "      <td>32</td>\n",
       "    </tr>\n",
       "  </tbody>\n",
       "</table>\n",
       "</div>"
      ],
      "text/plain": [
       "Attrition          No  Yes\n",
       "EducationField            \n",
       "Human Resources    20    7\n",
       "Life Sciences     517   89\n",
       "Marketing         124   35\n",
       "Medical           401   63\n",
       "Other              71   11\n",
       "Technical Degree  100   32"
      ]
     },
     "metadata": {},
     "output_type": "display_data"
    },
    {
     "data": {
      "image/png": "[encoded data removed]",
      "text/plain": [
       "<Figure size 640x480 with 1 Axes>"
      ]
     },
     "metadata": {},
     "output_type": "display_data"
    }
   ],
   "source": [
    "# Categorical Variables Crosstabulation in Pandas\n",
    "# Visualize stacked percentage bar chart\n",
    "col = 'EducationField'\n",
    "display(pd.crosstab(\n",
    "    columns=df['Attrition'], \n",
    "    index=df[col]\n",
    "))\n",
    "pd.crosstab(\n",
    "    index=df['Attrition'], \n",
    "    columns=df[col],\n",
    "    normalize='index'\n",
    ").plot(kind='bar', stacked=True,\n",
    "      title=col + \" x Attrition Proportion(%)\")\n",
    "plt.ylim(0,1)\n",
    "plt.yticks(plt.yticks()[0], ['{:,.0%}'.format(x) for x in plt.yticks()[0]])\n",
    "plt.show()"
   ]
  },
  {
   "cell_type": "code",
   "execution_count": null,
   "id": "da58ae52",
   "metadata": {},
   "outputs": [],
   "source": []
  },
  {
   "cell_type": "code",
   "execution_count": 24,
   "id": "94911ca2",
   "metadata": {
    "cell_style": "split"
   },
   "outputs": [
    {
     "data": {
      "text/html": [
       "<div>\n",
       "<style scoped>\n",
       "    .dataframe tbody tr th:only-of-type {\n",
       "        vertical-align: middle;\n",
       "    }\n",
       "\n",
       "    .dataframe tbody tr th {\n",
       "        vertical-align: top;\n",
       "    }\n",
       "\n",
       "    .dataframe thead th {\n",
       "        text-align: right;\n",
       "    }\n",
       "</style>\n",
       "<table border=\"1\" class=\"dataframe\">\n",
       "  <thead>\n",
       "    <tr style=\"text-align: right;\">\n",
       "      <th>Attrition</th>\n",
       "      <th>No</th>\n",
       "      <th>Yes</th>\n",
       "    </tr>\n",
       "    <tr>\n",
       "      <th>JobRole</th>\n",
       "      <th></th>\n",
       "      <th></th>\n",
       "    </tr>\n",
       "  </thead>\n",
       "  <tbody>\n",
       "    <tr>\n",
       "      <th>Healthcare Representative</th>\n",
       "      <td>122</td>\n",
       "      <td>9</td>\n",
       "    </tr>\n",
       "    <tr>\n",
       "      <th>Human Resources</th>\n",
       "      <td>40</td>\n",
       "      <td>12</td>\n",
       "    </tr>\n",
       "    <tr>\n",
       "      <th>Laboratory Technician</th>\n",
       "      <td>197</td>\n",
       "      <td>62</td>\n",
       "    </tr>\n",
       "    <tr>\n",
       "      <th>Manager</th>\n",
       "      <td>97</td>\n",
       "      <td>5</td>\n",
       "    </tr>\n",
       "    <tr>\n",
       "      <th>Manufacturing Director</th>\n",
       "      <td>135</td>\n",
       "      <td>10</td>\n",
       "    </tr>\n",
       "    <tr>\n",
       "      <th>Research Director</th>\n",
       "      <td>78</td>\n",
       "      <td>2</td>\n",
       "    </tr>\n",
       "    <tr>\n",
       "      <th>Research Scientist</th>\n",
       "      <td>245</td>\n",
       "      <td>47</td>\n",
       "    </tr>\n",
       "    <tr>\n",
       "      <th>Sales Executive</th>\n",
       "      <td>269</td>\n",
       "      <td>57</td>\n",
       "    </tr>\n",
       "    <tr>\n",
       "      <th>Sales Representative</th>\n",
       "      <td>50</td>\n",
       "      <td>33</td>\n",
       "    </tr>\n",
       "  </tbody>\n",
       "</table>\n",
       "</div>"
      ],
      "text/plain": [
       "Attrition                   No  Yes\n",
       "JobRole                            \n",
       "Healthcare Representative  122    9\n",
       "Human Resources             40   12\n",
       "Laboratory Technician      197   62\n",
       "Manager                     97    5\n",
       "Manufacturing Director     135   10\n",
       "Research Director           78    2\n",
       "Research Scientist         245   47\n",
       "Sales Executive            269   57\n",
       "Sales Representative        50   33"
      ]
     },
     "metadata": {},
     "output_type": "display_data"
    },
    {
     "data": {
      "image/png": "[encoded data removed]",
      "text/plain": [
       "<Figure size 640x480 with 1 Axes>"
      ]
     },
     "metadata": {},
     "output_type": "display_data"
    }
   ],
   "source": [
    "# Categorical Variables Crosstabulation in Pandas\n",
    "# Visualize stacked percentage bar chart\n",
    "col = 'JobRole'\n",
    "display(pd.crosstab(\n",
    "    columns=df['Attrition'], \n",
    "    index=df[col]\n",
    "))\n",
    "pd.crosstab(\n",
    "    index=df['Attrition'], \n",
    "    columns=df[col],\n",
    "    normalize='index'\n",
    ").plot(kind='bar', stacked=True,\n",
    "      title=col + \" x Attrition Proportion(%)\")\n",
    "plt.ylim(0,1)\n",
    "plt.yticks(plt.yticks()[0], ['{:,.0%}'.format(x) for x in plt.yticks()[0]])\n",
    "plt.show()"
   ]
  },
  {
   "cell_type": "code",
   "execution_count": 25,
   "id": "990973ae",
   "metadata": {
    "cell_style": "split"
   },
   "outputs": [
    {
     "data": {
      "text/html": [
       "<div>\n",
       "<style scoped>\n",
       "    .dataframe tbody tr th:only-of-type {\n",
       "        vertical-align: middle;\n",
       "    }\n",
       "\n",
       "    .dataframe tbody tr th {\n",
       "        vertical-align: top;\n",
       "    }\n",
       "\n",
       "    .dataframe thead th {\n",
       "        text-align: right;\n",
       "    }\n",
       "</style>\n",
       "<table border=\"1\" class=\"dataframe\">\n",
       "  <thead>\n",
       "    <tr style=\"text-align: right;\">\n",
       "      <th>Attrition</th>\n",
       "      <th>No</th>\n",
       "      <th>Yes</th>\n",
       "    </tr>\n",
       "    <tr>\n",
       "      <th>MaritalStatus</th>\n",
       "      <th></th>\n",
       "      <th></th>\n",
       "    </tr>\n",
       "  </thead>\n",
       "  <tbody>\n",
       "    <tr>\n",
       "      <th>Divorced</th>\n",
       "      <td>294</td>\n",
       "      <td>33</td>\n",
       "    </tr>\n",
       "    <tr>\n",
       "      <th>Married</th>\n",
       "      <td>589</td>\n",
       "      <td>84</td>\n",
       "    </tr>\n",
       "    <tr>\n",
       "      <th>Single</th>\n",
       "      <td>350</td>\n",
       "      <td>120</td>\n",
       "    </tr>\n",
       "  </tbody>\n",
       "</table>\n",
       "</div>"
      ],
      "text/plain": [
       "Attrition       No  Yes\n",
       "MaritalStatus          \n",
       "Divorced       294   33\n",
       "Married        589   84\n",
       "Single         350  120"
      ]
     },
     "metadata": {},
     "output_type": "display_data"
    },
    {
     "data": {
      "image/png": "[encoded data removed]",
      "text/plain": [
       "<Figure size 640x480 with 1 Axes>"
      ]
     },
     "metadata": {},
     "output_type": "display_data"
    }
   ],
   "source": [
    "# Categorical Variables Crosstabulation in Pandas\n",
    "# Visualize stacked percentage bar chart\n",
    "col = 'MaritalStatus'\n",
    "display(pd.crosstab(\n",
    "    columns=df['Attrition'], \n",
    "    index=df[col]\n",
    "))\n",
    "pd.crosstab(\n",
    "    index=df['Attrition'], \n",
    "    columns=df[col],\n",
    "    normalize='index'\n",
    ").plot(kind='bar', stacked=True,\n",
    "      title=col + \" x Attrition Proportion(%)\")\n",
    "plt.ylim(0,1)\n",
    "plt.yticks(plt.yticks()[0], ['{:,.0%}'.format(x) for x in plt.yticks()[0]])\n",
    "plt.show()"
   ]
  },
  {
   "cell_type": "code",
   "execution_count": null,
   "id": "215660f6",
   "metadata": {},
   "outputs": [],
   "source": []
  },
  {
   "cell_type": "code",
   "execution_count": 26,
   "id": "ab381521",
   "metadata": {
    "cell_style": "split"
   },
   "outputs": [
    {
     "data": {
      "text/html": [
       "<div>\n",
       "<style scoped>\n",
       "    .dataframe tbody tr th:only-of-type {\n",
       "        vertical-align: middle;\n",
       "    }\n",
       "\n",
       "    .dataframe tbody tr th {\n",
       "        vertical-align: top;\n",
       "    }\n",
       "\n",
       "    .dataframe thead th {\n",
       "        text-align: right;\n",
       "    }\n",
       "</style>\n",
       "<table border=\"1\" class=\"dataframe\">\n",
       "  <thead>\n",
       "    <tr style=\"text-align: right;\">\n",
       "      <th>Attrition</th>\n",
       "      <th>No</th>\n",
       "      <th>Yes</th>\n",
       "    </tr>\n",
       "    <tr>\n",
       "      <th>Over18</th>\n",
       "      <th></th>\n",
       "      <th></th>\n",
       "    </tr>\n",
       "  </thead>\n",
       "  <tbody>\n",
       "    <tr>\n",
       "      <th>Y</th>\n",
       "      <td>1233</td>\n",
       "      <td>237</td>\n",
       "    </tr>\n",
       "  </tbody>\n",
       "</table>\n",
       "</div>"
      ],
      "text/plain": [
       "Attrition    No  Yes\n",
       "Over18              \n",
       "Y          1233  237"
      ]
     },
     "metadata": {},
     "output_type": "display_data"
    },
    {
     "data": {
      "image/png": "[encoded data removed]",
      "text/plain": [
       "<Figure size 640x480 with 1 Axes>"
      ]
     },
     "metadata": {},
     "output_type": "display_data"
    }
   ],
   "source": [
    "# Categorical Variables Crosstabulation in Pandas\n",
    "# Visualize stacked percentage bar chart\n",
    "col = 'Over18'\n",
    "display(pd.crosstab(\n",
    "    columns=df['Attrition'], \n",
    "    index=df[col]\n",
    "))\n",
    "pd.crosstab(\n",
    "    index=df['Attrition'], \n",
    "    columns=df[col],\n",
    "    normalize='index'\n",
    ").plot(kind='bar', stacked=True,\n",
    "      title=col + \" x Attrition Proportion(%)\")\n",
    "plt.ylim(0,1)\n",
    "plt.yticks(plt.yticks()[0], ['{:,.0%}'.format(x) for x in plt.yticks()[0]])\n",
    "plt.show()"
   ]
  },
  {
   "cell_type": "code",
   "execution_count": 27,
   "id": "1cdee199",
   "metadata": {
    "cell_style": "split",
    "scrolled": false
   },
   "outputs": [
    {
     "data": {
      "text/html": [
       "<div>\n",
       "<style scoped>\n",
       "    .dataframe tbody tr th:only-of-type {\n",
       "        vertical-align: middle;\n",
       "    }\n",
       "\n",
       "    .dataframe tbody tr th {\n",
       "        vertical-align: top;\n",
       "    }\n",
       "\n",
       "    .dataframe thead th {\n",
       "        text-align: right;\n",
       "    }\n",
       "</style>\n",
       "<table border=\"1\" class=\"dataframe\">\n",
       "  <thead>\n",
       "    <tr style=\"text-align: right;\">\n",
       "      <th>Attrition</th>\n",
       "      <th>No</th>\n",
       "      <th>Yes</th>\n",
       "    </tr>\n",
       "    <tr>\n",
       "      <th>OverTime</th>\n",
       "      <th></th>\n",
       "      <th></th>\n",
       "    </tr>\n",
       "  </thead>\n",
       "  <tbody>\n",
       "    <tr>\n",
       "      <th>No</th>\n",
       "      <td>944</td>\n",
       "      <td>110</td>\n",
       "    </tr>\n",
       "    <tr>\n",
       "      <th>Yes</th>\n",
       "      <td>289</td>\n",
       "      <td>127</td>\n",
       "    </tr>\n",
       "  </tbody>\n",
       "</table>\n",
       "</div>"
      ],
      "text/plain": [
       "Attrition   No  Yes\n",
       "OverTime           \n",
       "No         944  110\n",
       "Yes        289  127"
      ]
     },
     "metadata": {},
     "output_type": "display_data"
    },
    {
     "data": {
      "image/png": "[encoded data removed]",
      "text/plain": [
       "<Figure size 640x480 with 1 Axes>"
      ]
     },
     "metadata": {},
     "output_type": "display_data"
    }
   ],
   "source": [
    "# Categorical Variables Crosstabulation in Pandas\n",
    "# Visualize stacked percentage bar chart\n",
    "col = 'OverTime'\n",
    "display(pd.crosstab(\n",
    "    columns=df['Attrition'], \n",
    "    index=df[col]\n",
    "))\n",
    "pd.crosstab(\n",
    "    index=df['Attrition'], \n",
    "    columns=df[col],\n",
    "    normalize='index'\n",
    ").plot(kind='bar', stacked=True,\n",
    "      title=col + \" x Attrition Proportion(%)\")\n",
    "plt.ylim(0,1)\n",
    "plt.yticks(plt.yticks()[0], ['{:,.0%}'.format(x) for x in plt.yticks()[0]])\n",
    "plt.show()"
   ]
  },
  {
   "cell_type": "markdown",
   "id": "8d764683",
   "metadata": {},
   "source": [
    "# Adding and Modifying Variables"
   ]
  },
  {
   "cell_type": "code",
   "execution_count": 28,
   "id": "a61820fc",
   "metadata": {},
   "outputs": [],
   "source": [
    "# Conditional Syntax: Building Dummy Variables from categorical variables\n",
    "added_df = mycol.aggregate([{\n",
    "    \"$addFields\": {\n",
    "        \"Attrition_YN\": { # Dependent Variable\n",
    "            \"$switch\": {\n",
    "                \"branches\": [\n",
    "                    {\"case\": {\"$eq\": [\"$Attrition\", \"Yes\"]}, \"then\": 1},\n",
    "                    {\"case\": {\"$eq\": [\"$Attrition\", \"No\"]}, \"then\": 0}\n",
    "                ], \"default\": 99\n",
    "            }\n",
    "        }, \"Male\": { # Gender Dummy Variable: Base = Female\n",
    "            \"$switch\": {\n",
    "                \"branches\":[\n",
    "                    {\"case\": {\"$eq\": [\"$Gender\", \"Male\"]}, \"then\": 1},\n",
    "                ], \"default\": 0\n",
    "            }\n",
    "        }, \"Travel_Frequently\": { # BusinessTravel Dummy Variable. Only focused on Travel Frequently \n",
    "            \"$switch\": {\n",
    "                \"branches\":[\n",
    "                    {\"case\": {\"$eq\": [\"$BusinessTravel\", \"Travel_Frequently\"]}, \"then\": 1}\n",
    "                ], \"default\": 0\n",
    "            }\n",
    "        }, \"Sales_Department\": { # Department Dummy Variable. Only Sales_Department\n",
    "            \"$switch\": {\n",
    "                \"branches\":[\n",
    "                    {\"case\": {\"$eq\": [\"$Department\", \"Sales\"]}, \"then\": 1}\n",
    "                ], \"default\": 0\n",
    "            }\n",
    "        }, \"Single\": { # MaritalStatus Dummy Variable. Only single\n",
    "            \"$switch\": {\n",
    "                \"branches\":[\n",
    "                    {\"case\": {\"$eq\": [\"$MaritalStatus\", \"Single\"]}, \"then\": 1}\n",
    "                ], \"default\": 0\n",
    "            }\n",
    "        }, \"OverTime_Y\": { # OverTime Binary Dummy. Over Time Yes.\n",
    "            \"$switch\": {\n",
    "                \"branches\":[\n",
    "                    {\"case\": {\"$eq\": [\"$OverTime\", \"Yes\"]}, \"then\": 1}\n",
    "                ], \"default\": 0\n",
    "            }\n",
    "        }\n",
    "    }\n",
    "}])"
   ]
  },
  {
   "cell_type": "code",
   "execution_count": 29,
   "id": "3e910cfe",
   "metadata": {},
   "outputs": [
    {
     "data": {
      "text/html": [
       "<div>\n",
       "<style scoped>\n",
       "    .dataframe tbody tr th:only-of-type {\n",
       "        vertical-align: middle;\n",
       "    }\n",
       "\n",
       "    .dataframe tbody tr th {\n",
       "        vertical-align: top;\n",
       "    }\n",
       "\n",
       "    .dataframe thead th {\n",
       "        text-align: right;\n",
       "    }\n",
       "</style>\n",
       "<table border=\"1\" class=\"dataframe\">\n",
       "  <thead>\n",
       "    <tr style=\"text-align: right;\">\n",
       "      <th></th>\n",
       "      <th>_id</th>\n",
       "      <th>Age</th>\n",
       "      <th>Attrition</th>\n",
       "      <th>BusinessTravel</th>\n",
       "      <th>DailyRate</th>\n",
       "      <th>Department</th>\n",
       "      <th>DistanceFromHome</th>\n",
       "      <th>Education</th>\n",
       "      <th>EducationField</th>\n",
       "      <th>EmployeeCount</th>\n",
       "      <th>EmployeeNumber</th>\n",
       "      <th>EnvironmentSatisfaction</th>\n",
       "      <th>Gender</th>\n",
       "      <th>HourlyRate</th>\n",
       "      <th>JobInvolvement</th>\n",
       "      <th>JobLevel</th>\n",
       "      <th>JobRole</th>\n",
       "      <th>JobSatisfaction</th>\n",
       "      <th>MaritalStatus</th>\n",
       "      <th>MonthlyIncome</th>\n",
       "      <th>MonthlyRate</th>\n",
       "      <th>NumCompaniesWorked</th>\n",
       "      <th>Over18</th>\n",
       "      <th>OverTime</th>\n",
       "      <th>PercentSalaryHike</th>\n",
       "      <th>PerformanceRating</th>\n",
       "      <th>RelationshipSatisfaction</th>\n",
       "      <th>StandardHours</th>\n",
       "      <th>StockOptionLevel</th>\n",
       "      <th>TotalWorkingYears</th>\n",
       "      <th>TrainingTimesLastYear</th>\n",
       "      <th>WorkLifeBalance</th>\n",
       "      <th>YearsAtCompany</th>\n",
       "      <th>YearsInCurrentRole</th>\n",
       "      <th>YearsSinceLastPromotion</th>\n",
       "      <th>YearsWithCurrManager</th>\n",
       "      <th>Attrition_YN</th>\n",
       "      <th>Male</th>\n",
       "      <th>Travel_Frequently</th>\n",
       "      <th>Sales_Department</th>\n",
       "      <th>Single</th>\n",
       "      <th>OverTime_Y</th>\n",
       "    </tr>\n",
       "  </thead>\n",
       "  <tbody>\n",
       "    <tr>\n",
       "      <th>0</th>\n",
       "      <td>64b829bfb64986d9b3edcf5d</td>\n",
       "      <td>41</td>\n",
       "      <td>Yes</td>\n",
       "      <td>Travel_Rarely</td>\n",
       "      <td>1102</td>\n",
       "      <td>Sales</td>\n",
       "      <td>1</td>\n",
       "      <td>2</td>\n",
       "      <td>Life Sciences</td>\n",
       "      <td>1</td>\n",
       "      <td>1</td>\n",
       "      <td>2</td>\n",
       "      <td>Female</td>\n",
       "      <td>94</td>\n",
       "      <td>3</td>\n",
       "      <td>2</td>\n",
       "      <td>Sales Executive</td>\n",
       "      <td>4</td>\n",
       "      <td>Single</td>\n",
       "      <td>5993</td>\n",
       "      <td>19479</td>\n",
       "      <td>8</td>\n",
       "      <td>Y</td>\n",
       "      <td>Yes</td>\n",
       "      <td>11</td>\n",
       "      <td>3</td>\n",
       "      <td>1</td>\n",
       "      <td>80</td>\n",
       "      <td>0</td>\n",
       "      <td>8</td>\n",
       "      <td>0</td>\n",
       "      <td>1</td>\n",
       "      <td>6</td>\n",
       "      <td>4</td>\n",
       "      <td>0</td>\n",
       "      <td>5</td>\n",
       "      <td>1</td>\n",
       "      <td>0</td>\n",
       "      <td>0</td>\n",
       "      <td>1</td>\n",
       "      <td>1</td>\n",
       "      <td>1</td>\n",
       "    </tr>\n",
       "    <tr>\n",
       "      <th>1</th>\n",
       "      <td>64b829bfb64986d9b3edcf5e</td>\n",
       "      <td>49</td>\n",
       "      <td>No</td>\n",
       "      <td>Travel_Frequently</td>\n",
       "      <td>279</td>\n",
       "      <td>Research &amp; Development</td>\n",
       "      <td>8</td>\n",
       "      <td>1</td>\n",
       "      <td>Life Sciences</td>\n",
       "      <td>1</td>\n",
       "      <td>2</td>\n",
       "      <td>3</td>\n",
       "      <td>Male</td>\n",
       "      <td>61</td>\n",
       "      <td>2</td>\n",
       "      <td>2</td>\n",
       "      <td>Research Scientist</td>\n",
       "      <td>2</td>\n",
       "      <td>Married</td>\n",
       "      <td>5130</td>\n",
       "      <td>24907</td>\n",
       "      <td>1</td>\n",
       "      <td>Y</td>\n",
       "      <td>No</td>\n",
       "      <td>23</td>\n",
       "      <td>4</td>\n",
       "      <td>4</td>\n",
       "      <td>80</td>\n",
       "      <td>1</td>\n",
       "      <td>10</td>\n",
       "      <td>3</td>\n",
       "      <td>3</td>\n",
       "      <td>10</td>\n",
       "      <td>7</td>\n",
       "      <td>1</td>\n",
       "      <td>7</td>\n",
       "      <td>0</td>\n",
       "      <td>1</td>\n",
       "      <td>1</td>\n",
       "      <td>0</td>\n",
       "      <td>0</td>\n",
       "      <td>0</td>\n",
       "    </tr>\n",
       "    <tr>\n",
       "      <th>2</th>\n",
       "      <td>64b829bfb64986d9b3edcf5f</td>\n",
       "      <td>37</td>\n",
       "      <td>Yes</td>\n",
       "      <td>Travel_Rarely</td>\n",
       "      <td>1373</td>\n",
       "      <td>Research &amp; Development</td>\n",
       "      <td>2</td>\n",
       "      <td>2</td>\n",
       "      <td>Other</td>\n",
       "      <td>1</td>\n",
       "      <td>4</td>\n",
       "      <td>4</td>\n",
       "      <td>Male</td>\n",
       "      <td>92</td>\n",
       "      <td>2</td>\n",
       "      <td>1</td>\n",
       "      <td>Laboratory Technician</td>\n",
       "      <td>3</td>\n",
       "      <td>Single</td>\n",
       "      <td>2090</td>\n",
       "      <td>2396</td>\n",
       "      <td>6</td>\n",
       "      <td>Y</td>\n",
       "      <td>Yes</td>\n",
       "      <td>15</td>\n",
       "      <td>3</td>\n",
       "      <td>2</td>\n",
       "      <td>80</td>\n",
       "      <td>0</td>\n",
       "      <td>7</td>\n",
       "      <td>3</td>\n",
       "      <td>3</td>\n",
       "      <td>0</td>\n",
       "      <td>0</td>\n",
       "      <td>0</td>\n",
       "      <td>0</td>\n",
       "      <td>1</td>\n",
       "      <td>1</td>\n",
       "      <td>0</td>\n",
       "      <td>0</td>\n",
       "      <td>1</td>\n",
       "      <td>1</td>\n",
       "    </tr>\n",
       "    <tr>\n",
       "      <th>3</th>\n",
       "      <td>64b829bfb64986d9b3edcf60</td>\n",
       "      <td>33</td>\n",
       "      <td>No</td>\n",
       "      <td>Travel_Frequently</td>\n",
       "      <td>1392</td>\n",
       "      <td>Research &amp; Development</td>\n",
       "      <td>3</td>\n",
       "      <td>4</td>\n",
       "      <td>Life Sciences</td>\n",
       "      <td>1</td>\n",
       "      <td>5</td>\n",
       "      <td>4</td>\n",
       "      <td>Female</td>\n",
       "      <td>56</td>\n",
       "      <td>3</td>\n",
       "      <td>1</td>\n",
       "      <td>Research Scientist</td>\n",
       "      <td>3</td>\n",
       "      <td>Married</td>\n",
       "      <td>2909</td>\n",
       "      <td>23159</td>\n",
       "      <td>1</td>\n",
       "      <td>Y</td>\n",
       "      <td>Yes</td>\n",
       "      <td>11</td>\n",
       "      <td>3</td>\n",
       "      <td>3</td>\n",
       "      <td>80</td>\n",
       "      <td>0</td>\n",
       "      <td>8</td>\n",
       "      <td>3</td>\n",
       "      <td>3</td>\n",
       "      <td>8</td>\n",
       "      <td>7</td>\n",
       "      <td>3</td>\n",
       "      <td>0</td>\n",
       "      <td>0</td>\n",
       "      <td>0</td>\n",
       "      <td>1</td>\n",
       "      <td>0</td>\n",
       "      <td>0</td>\n",
       "      <td>1</td>\n",
       "    </tr>\n",
       "    <tr>\n",
       "      <th>4</th>\n",
       "      <td>64b829bfb64986d9b3edcf61</td>\n",
       "      <td>27</td>\n",
       "      <td>No</td>\n",
       "      <td>Travel_Rarely</td>\n",
       "      <td>591</td>\n",
       "      <td>Research &amp; Development</td>\n",
       "      <td>2</td>\n",
       "      <td>1</td>\n",
       "      <td>Medical</td>\n",
       "      <td>1</td>\n",
       "      <td>7</td>\n",
       "      <td>1</td>\n",
       "      <td>Male</td>\n",
       "      <td>40</td>\n",
       "      <td>3</td>\n",
       "      <td>1</td>\n",
       "      <td>Laboratory Technician</td>\n",
       "      <td>2</td>\n",
       "      <td>Married</td>\n",
       "      <td>3468</td>\n",
       "      <td>16632</td>\n",
       "      <td>9</td>\n",
       "      <td>Y</td>\n",
       "      <td>No</td>\n",
       "      <td>12</td>\n",
       "      <td>3</td>\n",
       "      <td>4</td>\n",
       "      <td>80</td>\n",
       "      <td>1</td>\n",
       "      <td>6</td>\n",
       "      <td>3</td>\n",
       "      <td>3</td>\n",
       "      <td>2</td>\n",
       "      <td>2</td>\n",
       "      <td>2</td>\n",
       "      <td>2</td>\n",
       "      <td>0</td>\n",
       "      <td>1</td>\n",
       "      <td>0</td>\n",
       "      <td>0</td>\n",
       "      <td>0</td>\n",
       "      <td>0</td>\n",
       "    </tr>\n",
       "  </tbody>\n",
       "</table>\n",
       "</div>"
      ],
      "text/plain": [
       "                        _id  Age Attrition     BusinessTravel  DailyRate              Department  DistanceFromHome  Education EducationField  EmployeeCount  EmployeeNumber  EnvironmentSatisfaction  Gender  HourlyRate  JobInvolvement  JobLevel                JobRole  JobSatisfaction MaritalStatus  MonthlyIncome  MonthlyRate  NumCompaniesWorked Over18 OverTime  PercentSalaryHike  PerformanceRating  RelationshipSatisfaction  StandardHours  StockOptionLevel  TotalWorkingYears  TrainingTimesLastYear  WorkLifeBalance  YearsAtCompany  YearsInCurrentRole  YearsSinceLastPromotion  YearsWithCurrManager  Attrition_YN  Male  Travel_Frequently  Sales_Department  Single  OverTime_Y\n",
       "0  64b829bfb64986d9b3edcf5d   41       Yes      Travel_Rarely       1102                   Sales                 1          2  Life Sciences              1               1                        2  Female          94               3         2        Sales Executive                4        Single           5993        19479                   8      Y      Yes                 11                  3                         1             80                 0                  8                      0                1               6                   4                        0                     5             1     0                  0                 1       1           1\n",
       "1  64b829bfb64986d9b3edcf5e   49        No  Travel_Frequently        279  Research & Development                 8          1  Life Sciences              1               2                        3    Male          61               2         2     Research Scientist                2       Married           5130        24907                   1      Y       No                 23                  4                         4             80                 1                 10                      3                3              10                   7                        1                     7             0     1                  1                 0       0           0\n",
       "2  64b829bfb64986d9b3edcf5f   37       Yes      Travel_Rarely       1373  Research & Development                 2          2          Other              1               4                        4    Male          92               2         1  Laboratory Technician                3        Single           2090         2396                   6      Y      Yes                 15                  3                         2             80                 0                  7                      3                3               0                   0                        0                     0             1     1                  0                 0       1           1\n",
       "3  64b829bfb64986d9b3edcf60   33        No  Travel_Frequently       1392  Research & Development                 3          4  Life Sciences              1               5                        4  Female          56               3         1     Research Scientist                3       Married           2909        23159                   1      Y      Yes                 11                  3                         3             80                 0                  8                      3                3               8                   7                        3                     0             0     0                  1                 0       0           1\n",
       "4  64b829bfb64986d9b3edcf61   27        No      Travel_Rarely        591  Research & Development                 2          1        Medical              1               7                        1    Male          40               3         1  Laboratory Technician                2       Married           3468        16632                   9      Y       No                 12                  3                         4             80                 1                  6                      3                3               2                   2                        2                     2             0     1                  0                 0       0           0"
      ]
     },
     "execution_count": 29,
     "metadata": {},
     "output_type": "execute_result"
    }
   ],
   "source": [
    "# Stored and reshape data frame with added dummy variables\n",
    "df = pd.DataFrame(list(added_df))\n",
    "df.head()"
   ]
  },
  {
   "cell_type": "code",
   "execution_count": 30,
   "id": "cb3182fc",
   "metadata": {},
   "outputs": [],
   "source": [
    "# Store final dataset as csv file\n",
    "df.to_csv('./IBM_final_df.csv')"
   ]
  },
  {
   "cell_type": "markdown",
   "id": "2e6a864b",
   "metadata": {},
   "source": [
    "# Analyzing variables with dependent variables"
   ]
  },
  {
   "cell_type": "code",
   "execution_count": 31,
   "id": "5ba78476",
   "metadata": {
    "cell_style": "split"
   },
   "outputs": [
    {
     "data": {
      "image/png": "[encoded data removed]",
      "text/plain": [
       "<Figure size 640x480 with 1 Axes>"
      ]
     },
     "metadata": {},
     "output_type": "display_data"
    }
   ],
   "source": [
    "# Check Distribution between Monthly Income and Attrition\n",
    "sns.histplot(data=df, x='MonthlyIncome', kde=True, hue='Attrition')\n",
    "plt.show()"
   ]
  },
  {
   "cell_type": "code",
   "execution_count": 32,
   "id": "cbb55fb0",
   "metadata": {
    "cell_style": "split"
   },
   "outputs": [
    {
     "data": {
      "image/png": "[encoded data removed]",
      "text/plain": [
       "<Figure size 640x480 with 1 Axes>"
      ]
     },
     "metadata": {},
     "output_type": "display_data"
    }
   ],
   "source": [
    "# Check Distribution between Job Satisfaction and Attrition\n",
    "sns.boxplot(data=df, x='JobSatisfaction', y='Attrition')\n",
    "plt.show()"
   ]
  },
  {
   "cell_type": "code",
   "execution_count": 33,
   "id": "e700bd7b",
   "metadata": {
    "cell_style": "split"
   },
   "outputs": [
    {
     "data": {
      "image/png": "[encoded data removed]",
      "text/plain": [
       "<Figure size 640x480 with 1 Axes>"
      ]
     },
     "metadata": {},
     "output_type": "display_data"
    }
   ],
   "source": [
    "sns.boxplot(data=df, x='MonthlyIncome', y='Attrition')\n",
    "plt.show()"
   ]
  },
  {
   "cell_type": "code",
   "execution_count": 34,
   "id": "cbc13eba",
   "metadata": {
    "cell_style": "split"
   },
   "outputs": [
    {
     "data": {
      "image/png": "[encoded data removed]",
      "text/plain": [
       "<Figure size 640x480 with 1 Axes>"
      ]
     },
     "metadata": {},
     "output_type": "display_data"
    }
   ],
   "source": [
    "sns.histplot(data=df, hue='Attrition', x='OverTime_Y', kde=True)\n",
    "plt.show()"
   ]
  },
  {
   "cell_type": "code",
   "execution_count": null,
   "id": "a3e8b897",
   "metadata": {},
   "outputs": [],
   "source": []
  },
  {
   "cell_type": "code",
   "execution_count": 35,
   "id": "333d48bb",
   "metadata": {
    "cell_style": "split"
   },
   "outputs": [
    {
     "data": {
      "image/png": "[encoded data removed]",
      "text/plain": [
       "<Figure size 640x480 with 1 Axes>"
      ]
     },
     "metadata": {},
     "output_type": "display_data"
    }
   ],
   "source": [
    "sns.histplot(data=df, hue='Attrition', x='Age', kde=True)\n",
    "plt.show()"
   ]
  },
  {
   "cell_type": "code",
   "execution_count": 36,
   "id": "da6fbdf2",
   "metadata": {
    "cell_style": "split"
   },
   "outputs": [
    {
     "data": {
      "image/png": "[encoded data removed]",
      "text/plain": [
       "<Figure size 640x480 with 1 Axes>"
      ]
     },
     "metadata": {},
     "output_type": "display_data"
    }
   ],
   "source": [
    "sns.histplot(data=df, hue='Attrition', x='YearsAtCompany', kde=True)\n",
    "plt.show()"
   ]
  },
  {
   "cell_type": "code",
   "execution_count": null,
   "id": "b00d80bb",
   "metadata": {},
   "outputs": [],
   "source": []
  },
  {
   "cell_type": "code",
   "execution_count": 37,
   "id": "948ee355",
   "metadata": {
    "cell_style": "split"
   },
   "outputs": [
    {
     "data": {
      "image/png": "[encoded data removed]",
      "text/plain": [
       "<Figure size 640x480 with 1 Axes>"
      ]
     },
     "metadata": {},
     "output_type": "display_data"
    }
   ],
   "source": [
    "sns.histplot(data=df, hue='Attrition', x='StockOptionLevel')\n",
    "plt.show()"
   ]
  },
  {
   "cell_type": "code",
   "execution_count": 38,
   "id": "7c57423f",
   "metadata": {
    "cell_style": "split"
   },
   "outputs": [
    {
     "data": {
      "image/png": "[encoded data removed]",
      "text/plain": [
       "<Figure size 640x480 with 1 Axes>"
      ]
     },
     "metadata": {},
     "output_type": "display_data"
    }
   ],
   "source": [
    "sns.histplot(data=df, hue='Attrition', x='HourlyRate')\n",
    "plt.show()"
   ]
  },
  {
   "cell_type": "code",
   "execution_count": null,
   "id": "6da355ae",
   "metadata": {},
   "outputs": [],
   "source": []
  },
  {
   "cell_type": "code",
   "execution_count": 39,
   "id": "1510e349",
   "metadata": {},
   "outputs": [],
   "source": [
    "# Correlation Test with Total variables\n",
    "cor_test = df[[\n",
    "    # Dependent Variable\n",
    "    'Attrition_YN', \n",
    "    \n",
    "    # Independent Numerical\n",
    "    'Age', \n",
    "    'DistanceFromHome', \n",
    "    'EnvironmentSatisfaction', \n",
    "    'JobSatisfaction',\n",
    "    'MonthlyIncome', \n",
    "    'MonthlyRate', \n",
    "    'NumCompaniesWorked', \n",
    "    'PercentSalaryHike', \n",
    "    'PerformanceRating', \n",
    "    'RelationshipSatisfaction', \n",
    "    'StockOptionLevel', \n",
    "    'TotalWorkingYears', \n",
    "    'TrainingTimesLastYear', \n",
    "    'WorkLifeBalance', \n",
    "    'YearsAtCompany', \n",
    "    'YearsInCurrentRole', \n",
    "    'YearsSinceLastPromotion', \n",
    "    'YearsWithCurrManager', \n",
    "    \n",
    "    # Dummy Variable\n",
    "    'Male', \n",
    "    'Travel_Frequently', \n",
    "    'Sales_Department', \n",
    "    'Single', \n",
    "    'OverTime_Y'\n",
    "   ]].corr().round(decimals=3)"
   ]
  },
  {
   "cell_type": "code",
   "execution_count": 40,
   "id": "56d0273d",
   "metadata": {},
   "outputs": [
    {
     "data": {
      "text/html": [
       "<div>\n",
       "<style scoped>\n",
       "    .dataframe tbody tr th:only-of-type {\n",
       "        vertical-align: middle;\n",
       "    }\n",
       "\n",
       "    .dataframe tbody tr th {\n",
       "        vertical-align: top;\n",
       "    }\n",
       "\n",
       "    .dataframe thead th {\n",
       "        text-align: right;\n",
       "    }\n",
       "</style>\n",
       "<table border=\"1\" class=\"dataframe\">\n",
       "  <thead>\n",
       "    <tr style=\"text-align: right;\">\n",
       "      <th></th>\n",
       "      <th>Attrition_YN</th>\n",
       "    </tr>\n",
       "  </thead>\n",
       "  <tbody>\n",
       "    <tr>\n",
       "      <th>Attrition_YN</th>\n",
       "      <td>1.000</td>\n",
       "    </tr>\n",
       "    <tr>\n",
       "      <th>OverTime_Y</th>\n",
       "      <td>0.246</td>\n",
       "    </tr>\n",
       "    <tr>\n",
       "      <th>Single</th>\n",
       "      <td>0.175</td>\n",
       "    </tr>\n",
       "    <tr>\n",
       "      <th>Travel_Frequently</th>\n",
       "      <td>0.115</td>\n",
       "    </tr>\n",
       "    <tr>\n",
       "      <th>Sales_Department</th>\n",
       "      <td>0.081</td>\n",
       "    </tr>\n",
       "    <tr>\n",
       "      <th>DistanceFromHome</th>\n",
       "      <td>0.078</td>\n",
       "    </tr>\n",
       "    <tr>\n",
       "      <th>NumCompaniesWorked</th>\n",
       "      <td>0.043</td>\n",
       "    </tr>\n",
       "    <tr>\n",
       "      <th>Male</th>\n",
       "      <td>0.029</td>\n",
       "    </tr>\n",
       "    <tr>\n",
       "      <th>MonthlyRate</th>\n",
       "      <td>0.015</td>\n",
       "    </tr>\n",
       "    <tr>\n",
       "      <th>PerformanceRating</th>\n",
       "      <td>0.003</td>\n",
       "    </tr>\n",
       "    <tr>\n",
       "      <th>PercentSalaryHike</th>\n",
       "      <td>-0.013</td>\n",
       "    </tr>\n",
       "    <tr>\n",
       "      <th>YearsSinceLastPromotion</th>\n",
       "      <td>-0.033</td>\n",
       "    </tr>\n",
       "    <tr>\n",
       "      <th>RelationshipSatisfaction</th>\n",
       "      <td>-0.046</td>\n",
       "    </tr>\n",
       "    <tr>\n",
       "      <th>TrainingTimesLastYear</th>\n",
       "      <td>-0.059</td>\n",
       "    </tr>\n",
       "    <tr>\n",
       "      <th>WorkLifeBalance</th>\n",
       "      <td>-0.064</td>\n",
       "    </tr>\n",
       "    <tr>\n",
       "      <th>EnvironmentSatisfaction</th>\n",
       "      <td>-0.103</td>\n",
       "    </tr>\n",
       "    <tr>\n",
       "      <th>JobSatisfaction</th>\n",
       "      <td>-0.103</td>\n",
       "    </tr>\n",
       "    <tr>\n",
       "      <th>YearsAtCompany</th>\n",
       "      <td>-0.134</td>\n",
       "    </tr>\n",
       "    <tr>\n",
       "      <th>StockOptionLevel</th>\n",
       "      <td>-0.137</td>\n",
       "    </tr>\n",
       "    <tr>\n",
       "      <th>YearsWithCurrManager</th>\n",
       "      <td>-0.156</td>\n",
       "    </tr>\n",
       "    <tr>\n",
       "      <th>Age</th>\n",
       "      <td>-0.159</td>\n",
       "    </tr>\n",
       "    <tr>\n",
       "      <th>MonthlyIncome</th>\n",
       "      <td>-0.160</td>\n",
       "    </tr>\n",
       "    <tr>\n",
       "      <th>YearsInCurrentRole</th>\n",
       "      <td>-0.161</td>\n",
       "    </tr>\n",
       "    <tr>\n",
       "      <th>TotalWorkingYears</th>\n",
       "      <td>-0.171</td>\n",
       "    </tr>\n",
       "  </tbody>\n",
       "</table>\n",
       "</div>"
      ],
      "text/plain": [
       "                          Attrition_YN\n",
       "Attrition_YN                     1.000\n",
       "OverTime_Y                       0.246\n",
       "Single                           0.175\n",
       "Travel_Frequently                0.115\n",
       "Sales_Department                 0.081\n",
       "DistanceFromHome                 0.078\n",
       "NumCompaniesWorked               0.043\n",
       "Male                             0.029\n",
       "MonthlyRate                      0.015\n",
       "PerformanceRating                0.003\n",
       "PercentSalaryHike               -0.013\n",
       "YearsSinceLastPromotion         -0.033\n",
       "RelationshipSatisfaction        -0.046\n",
       "TrainingTimesLastYear           -0.059\n",
       "WorkLifeBalance                 -0.064\n",
       "EnvironmentSatisfaction         -0.103\n",
       "JobSatisfaction                 -0.103\n",
       "YearsAtCompany                  -0.134\n",
       "StockOptionLevel                -0.137\n",
       "YearsWithCurrManager            -0.156\n",
       "Age                             -0.159\n",
       "MonthlyIncome                   -0.160\n",
       "YearsInCurrentRole              -0.161\n",
       "TotalWorkingYears               -0.171"
      ]
     },
     "metadata": {},
     "output_type": "display_data"
    }
   ],
   "source": [
    "# Correlation Coefficients\n",
    "display(cor_test[['Attrition_YN']].sort_values(by='Attrition_YN', ascending=False))"
   ]
  },
  {
   "cell_type": "code",
   "execution_count": 41,
   "id": "d1e49e84",
   "metadata": {},
   "outputs": [
    {
     "data": {
      "image/png": "[encoded data removed]",
      "text/plain": [
       "<Figure size 640x480 with 2 Axes>"
      ]
     },
     "metadata": {},
     "output_type": "display_data"
    }
   ],
   "source": [
    "# Check Heatmap\n",
    "sns.heatmap(data=cor_test, annot=False, vmax=1, vmin=-1, cmap='vlag')\n",
    "plt.show()"
   ]
  },
  {
   "cell_type": "markdown",
   "id": "47d26e34",
   "metadata": {},
   "source": [
    "# Building Logistic Regression Model"
   ]
  },
  {
   "cell_type": "code",
   "execution_count": 42,
   "id": "59c0d949",
   "metadata": {},
   "outputs": [],
   "source": [
    "# Full Model Formula Text\n",
    "fml = ''\n",
    "for x in cor_test.columns:\n",
    "    if x == 'Attrition_YN':\n",
    "        fml += x + ' ~ '\n",
    "    else:\n",
    "        fml += x + ' + '\n",
    "fml = fml[0:-3]"
   ]
  },
  {
   "cell_type": "code",
   "execution_count": 43,
   "id": "4240e302",
   "metadata": {},
   "outputs": [
    {
     "data": {
      "text/plain": [
       "'Attrition_YN ~ Age + DistanceFromHome + EnvironmentSatisfaction + JobSatisfaction + MonthlyIncome + MonthlyRate + NumCompaniesWorked + PercentSalaryHike + PerformanceRating + RelationshipSatisfaction + StockOptionLevel + TotalWorkingYears + TrainingTimesLastYear + WorkLifeBalance + YearsAtCompany + YearsInCurrentRole + YearsSinceLastPromotion + YearsWithCurrManager + Male + Travel_Frequently + Sales_Department + Single + OverTime_Y'"
      ]
     },
     "execution_count": 43,
     "metadata": {},
     "output_type": "execute_result"
    }
   ],
   "source": [
    "fml"
   ]
  },
  {
   "cell_type": "code",
   "execution_count": 44,
   "id": "15ebd193",
   "metadata": {},
   "outputs": [
    {
     "name": "stdout",
     "output_type": "stream",
     "text": [
      "Optimization terminated successfully.\n",
      "         Current function value: 0.317495\n",
      "         Iterations 8\n"
     ]
    },
    {
     "data": {
      "text/html": [
       "<table class=\"simpletable\">\n",
       "<tr>\n",
       "        <td>Model:</td>              <td>Logit</td>      <td>Pseudo R-squared:</td>    <td>0.281</td>  \n",
       "</tr>\n",
       "<tr>\n",
       "  <td>Dependent Variable:</td>   <td>Attrition_YN</td>         <td>AIC:</td>         <td>981.4343</td> \n",
       "</tr>\n",
       "<tr>\n",
       "         <td>Date:</td>        <td>2023-07-28 15:25</td>       <td>BIC:</td>         <td>1108.4667</td>\n",
       "</tr>\n",
       "<tr>\n",
       "   <td>No. Observations:</td>        <td>1470</td>        <td>Log-Likelihood:</td>    <td>-466.72</td> \n",
       "</tr>\n",
       "<tr>\n",
       "       <td>Df Model:</td>             <td>23</td>            <td>LL-Null:</td>        <td>-649.29</td> \n",
       "</tr>\n",
       "<tr>\n",
       "     <td>Df Residuals:</td>          <td>1446</td>         <td>LLR p-value:</td>    <td>2.5362e-63</td>\n",
       "</tr>\n",
       "<tr>\n",
       "      <td>Converged:</td>           <td>1.0000</td>           <td>Scale:</td>         <td>1.0000</td>  \n",
       "</tr>\n",
       "<tr>\n",
       "    <td>No. Iterations:</td>        <td>8.0000</td>              <td></td>               <td></td>     \n",
       "</tr>\n",
       "</table>\n",
       "<table class=\"simpletable\">\n",
       "<tr>\n",
       "              <td></td>              <th>Coef.</th>  <th>Std.Err.</th>    <th>z</th>     <th>P>|z|</th> <th>[0.025</th>  <th>0.975]</th> \n",
       "</tr>\n",
       "<tr>\n",
       "  <th>Intercept</th>                <td>2.2922</td>   <td>1.1086</td>  <td>2.0676</td>  <td>0.0387</td> <td>0.1193</td>  <td>4.4651</td> \n",
       "</tr>\n",
       "<tr>\n",
       "  <th>Age</th>                      <td>-0.0339</td>  <td>0.0129</td>  <td>-2.6236</td> <td>0.0087</td> <td>-0.0593</td> <td>-0.0086</td>\n",
       "</tr>\n",
       "<tr>\n",
       "  <th>DistanceFromHome</th>         <td>0.0380</td>   <td>0.0101</td>  <td>3.7444</td>  <td>0.0002</td> <td>0.0181</td>  <td>0.0579</td> \n",
       "</tr>\n",
       "<tr>\n",
       "  <th>EnvironmentSatisfaction</th>  <td>-0.4105</td>  <td>0.0784</td>  <td>-5.2386</td> <td>0.0000</td> <td>-0.5640</td> <td>-0.2569</td>\n",
       "</tr>\n",
       "<tr>\n",
       "  <th>JobSatisfaction</th>          <td>-0.4125</td>  <td>0.0775</td>  <td>-5.3241</td> <td>0.0000</td> <td>-0.5644</td> <td>-0.2607</td>\n",
       "</tr>\n",
       "<tr>\n",
       "  <th>MonthlyIncome</th>            <td>-0.0001</td>  <td>0.0000</td>  <td>-3.0749</td> <td>0.0021</td> <td>-0.0002</td> <td>-0.0000</td>\n",
       "</tr>\n",
       "<tr>\n",
       "  <th>MonthlyRate</th>              <td>0.0000</td>   <td>0.0000</td>  <td>0.3113</td>  <td>0.7556</td> <td>-0.0000</td> <td>0.0000</td> \n",
       "</tr>\n",
       "<tr>\n",
       "  <th>NumCompaniesWorked</th>       <td>0.1752</td>   <td>0.0362</td>  <td>4.8407</td>  <td>0.0000</td> <td>0.1042</td>  <td>0.2461</td> \n",
       "</tr>\n",
       "<tr>\n",
       "  <th>PercentSalaryHike</th>        <td>-0.0350</td>  <td>0.0367</td>  <td>-0.9540</td> <td>0.3401</td> <td>-0.1070</td> <td>0.0369</td> \n",
       "</tr>\n",
       "<tr>\n",
       "  <th>PerformanceRating</th>        <td>0.2264</td>   <td>0.3756</td>  <td>0.6026</td>  <td>0.5467</td> <td>-0.5098</td> <td>0.9625</td> \n",
       "</tr>\n",
       "<tr>\n",
       "  <th>RelationshipSatisfaction</th> <td>-0.2654</td>  <td>0.0782</td>  <td>-3.3922</td> <td>0.0007</td> <td>-0.4187</td> <td>-0.1120</td>\n",
       "</tr>\n",
       "<tr>\n",
       "  <th>StockOptionLevel</th>         <td>-0.2478</td>  <td>0.1405</td>  <td>-1.7635</td> <td>0.0778</td> <td>-0.5233</td> <td>0.0276</td> \n",
       "</tr>\n",
       "<tr>\n",
       "  <th>TotalWorkingYears</th>        <td>-0.0535</td>  <td>0.0271</td>  <td>-1.9738</td> <td>0.0484</td> <td>-0.1066</td> <td>-0.0004</td>\n",
       "</tr>\n",
       "<tr>\n",
       "  <th>TrainingTimesLastYear</th>    <td>-0.1528</td>  <td>0.0684</td>  <td>-2.2344</td> <td>0.0255</td> <td>-0.2869</td> <td>-0.0188</td>\n",
       "</tr>\n",
       "<tr>\n",
       "  <th>WorkLifeBalance</th>          <td>-0.3116</td>  <td>0.1162</td>  <td>-2.6824</td> <td>0.0073</td> <td>-0.5393</td> <td>-0.0839</td>\n",
       "</tr>\n",
       "<tr>\n",
       "  <th>YearsAtCompany</th>           <td>0.0910</td>   <td>0.0366</td>  <td>2.4862</td>  <td>0.0129</td> <td>0.0193</td>  <td>0.1627</td> \n",
       "</tr>\n",
       "<tr>\n",
       "  <th>YearsInCurrentRole</th>       <td>-0.1329</td>  <td>0.0431</td>  <td>-3.0862</td> <td>0.0020</td> <td>-0.2173</td> <td>-0.0485</td>\n",
       "</tr>\n",
       "<tr>\n",
       "  <th>YearsSinceLastPromotion</th>  <td>0.1774</td>   <td>0.0403</td>  <td>4.3970</td>  <td>0.0000</td> <td>0.0983</td>  <td>0.2565</td> \n",
       "</tr>\n",
       "<tr>\n",
       "  <th>YearsWithCurrManager</th>     <td>-0.1588</td>  <td>0.0446</td>  <td>-3.5612</td> <td>0.0004</td> <td>-0.2462</td> <td>-0.0714</td>\n",
       "</tr>\n",
       "<tr>\n",
       "  <th>Male</th>                     <td>0.4068</td>   <td>0.1754</td>  <td>2.3196</td>  <td>0.0204</td> <td>0.0631</td>  <td>0.7505</td> \n",
       "</tr>\n",
       "<tr>\n",
       "  <th>Travel_Frequently</th>        <td>0.9284</td>   <td>0.1978</td>  <td>4.6930</td>  <td>0.0000</td> <td>0.5407</td>  <td>1.3162</td> \n",
       "</tr>\n",
       "<tr>\n",
       "  <th>Sales_Department</th>         <td>0.7264</td>   <td>0.1822</td>  <td>3.9866</td>  <td>0.0001</td> <td>0.3693</td>  <td>1.0835</td> \n",
       "</tr>\n",
       "<tr>\n",
       "  <th>Single</th>                   <td>0.8300</td>   <td>0.2313</td>  <td>3.5877</td>  <td>0.0003</td> <td>0.3766</td>  <td>1.2835</td> \n",
       "</tr>\n",
       "<tr>\n",
       "  <th>OverTime_Y</th>               <td>1.7846</td>   <td>0.1797</td>  <td>9.9316</td>  <td>0.0000</td> <td>1.4324</td>  <td>2.1368</td> \n",
       "</tr>\n",
       "</table>"
      ],
      "text/plain": [
       "<class 'statsmodels.iolib.summary2.Summary'>\n",
       "\"\"\"\n",
       "                             Results: Logit\n",
       "========================================================================\n",
       "Model:                 Logit              Pseudo R-squared:   0.281     \n",
       "Dependent Variable:    Attrition_YN       AIC:                981.4343  \n",
       "Date:                  2023-07-28 15:25   BIC:                1108.4667 \n",
       "No. Observations:      1470               Log-Likelihood:     -466.72   \n",
       "Df Model:              23                 LL-Null:            -649.29   \n",
       "Df Residuals:          1446               LLR p-value:        2.5362e-63\n",
       "Converged:             1.0000             Scale:              1.0000    \n",
       "No. Iterations:        8.0000                                           \n",
       "------------------------------------------------------------------------\n",
       "                          Coef.  Std.Err.    z    P>|z|   [0.025  0.975]\n",
       "------------------------------------------------------------------------\n",
       "Intercept                 2.2922   1.1086  2.0676 0.0387  0.1193  4.4651\n",
       "Age                      -0.0339   0.0129 -2.6236 0.0087 -0.0593 -0.0086\n",
       "DistanceFromHome          0.0380   0.0101  3.7444 0.0002  0.0181  0.0579\n",
       "EnvironmentSatisfaction  -0.4105   0.0784 -5.2386 0.0000 -0.5640 -0.2569\n",
       "JobSatisfaction          -0.4125   0.0775 -5.3241 0.0000 -0.5644 -0.2607\n",
       "MonthlyIncome            -0.0001   0.0000 -3.0749 0.0021 -0.0002 -0.0000\n",
       "MonthlyRate               0.0000   0.0000  0.3113 0.7556 -0.0000  0.0000\n",
       "NumCompaniesWorked        0.1752   0.0362  4.8407 0.0000  0.1042  0.2461\n",
       "PercentSalaryHike        -0.0350   0.0367 -0.9540 0.3401 -0.1070  0.0369\n",
       "PerformanceRating         0.2264   0.3756  0.6026 0.5467 -0.5098  0.9625\n",
       "RelationshipSatisfaction -0.2654   0.0782 -3.3922 0.0007 -0.4187 -0.1120\n",
       "StockOptionLevel         -0.2478   0.1405 -1.7635 0.0778 -0.5233  0.0276\n",
       "TotalWorkingYears        -0.0535   0.0271 -1.9738 0.0484 -0.1066 -0.0004\n",
       "TrainingTimesLastYear    -0.1528   0.0684 -2.2344 0.0255 -0.2869 -0.0188\n",
       "WorkLifeBalance          -0.3116   0.1162 -2.6824 0.0073 -0.5393 -0.0839\n",
       "YearsAtCompany            0.0910   0.0366  2.4862 0.0129  0.0193  0.1627\n",
       "YearsInCurrentRole       -0.1329   0.0431 -3.0862 0.0020 -0.2173 -0.0485\n",
       "YearsSinceLastPromotion   0.1774   0.0403  4.3970 0.0000  0.0983  0.2565\n",
       "YearsWithCurrManager     -0.1588   0.0446 -3.5612 0.0004 -0.2462 -0.0714\n",
       "Male                      0.4068   0.1754  2.3196 0.0204  0.0631  0.7505\n",
       "Travel_Frequently         0.9284   0.1978  4.6930 0.0000  0.5407  1.3162\n",
       "Sales_Department          0.7264   0.1822  3.9866 0.0001  0.3693  1.0835\n",
       "Single                    0.8300   0.2313  3.5877 0.0003  0.3766  1.2835\n",
       "OverTime_Y                1.7846   0.1797  9.9316 0.0000  1.4324  2.1368\n",
       "========================================================================\n",
       "\n",
       "\"\"\""
      ]
     },
     "execution_count": 44,
     "metadata": {},
     "output_type": "execute_result"
    }
   ],
   "source": [
    "# Building Full Model\n",
    "model = smf.logit(data=df, formula=fml)\n",
    "res = model.fit()\n",
    "\n",
    "res.summary2()"
   ]
  },
  {
   "cell_type": "code",
   "execution_count": 45,
   "id": "4185840a",
   "metadata": {},
   "outputs": [],
   "source": [
    "# Fit Model using Significant Variables\n",
    "fml2 = ''\n",
    "for x in cor_test.drop([\n",
    "    'PercentSalaryHike', \n",
    "    'TotalWorkingYears', \n",
    "    'YearsAtCompany',\n",
    "    'YearsSinceLastPromotion', \n",
    "    'YearsWithCurrManager', \n",
    "    'PerformanceRating',\n",
    "    'MonthlyRate',\n",
    "], axis=1).columns:\n",
    "    if x == 'Attrition_YN':\n",
    "        fml2 += x + ' ~ '\n",
    "    else:\n",
    "        fml2 += x + ' + '\n",
    "fml2 = fml2[0:-3]"
   ]
  },
  {
   "cell_type": "code",
   "execution_count": 46,
   "id": "5a499809",
   "metadata": {},
   "outputs": [
    {
     "data": {
      "text/plain": [
       "'Attrition_YN ~ Age + DistanceFromHome + EnvironmentSatisfaction + JobSatisfaction + MonthlyIncome + NumCompaniesWorked + RelationshipSatisfaction + StockOptionLevel + TrainingTimesLastYear + WorkLifeBalance + YearsInCurrentRole + Male + Travel_Frequently + Sales_Department + Single + OverTime_Y'"
      ]
     },
     "execution_count": 46,
     "metadata": {},
     "output_type": "execute_result"
    }
   ],
   "source": [
    "fml2"
   ]
  },
  {
   "cell_type": "code",
   "execution_count": 47,
   "id": "17b6f6a3",
   "metadata": {},
   "outputs": [
    {
     "name": "stdout",
     "output_type": "stream",
     "text": [
      "Optimization terminated successfully.\n",
      "         Current function value: 0.331214\n",
      "         Iterations 7\n"
     ]
    },
    {
     "data": {
      "text/html": [
       "<table class=\"simpletable\">\n",
       "<tr>\n",
       "        <td>Model:</td>              <td>Logit</td>      <td>Pseudo R-squared:</td>    <td>0.250</td>  \n",
       "</tr>\n",
       "<tr>\n",
       "  <td>Dependent Variable:</td>   <td>Attrition_YN</td>         <td>AIC:</td>         <td>1007.7700</td>\n",
       "</tr>\n",
       "<tr>\n",
       "         <td>Date:</td>        <td>2023-07-28 15:25</td>       <td>BIC:</td>         <td>1097.7513</td>\n",
       "</tr>\n",
       "<tr>\n",
       "   <td>No. Observations:</td>        <td>1470</td>        <td>Log-Likelihood:</td>    <td>-486.89</td> \n",
       "</tr>\n",
       "<tr>\n",
       "       <td>Df Model:</td>             <td>16</td>            <td>LL-Null:</td>        <td>-649.29</td> \n",
       "</tr>\n",
       "<tr>\n",
       "     <td>Df Residuals:</td>          <td>1453</td>         <td>LLR p-value:</td>    <td>1.8140e-59</td>\n",
       "</tr>\n",
       "<tr>\n",
       "      <td>Converged:</td>           <td>1.0000</td>           <td>Scale:</td>         <td>1.0000</td>  \n",
       "</tr>\n",
       "<tr>\n",
       "    <td>No. Iterations:</td>        <td>7.0000</td>              <td></td>               <td></td>     \n",
       "</tr>\n",
       "</table>\n",
       "<table class=\"simpletable\">\n",
       "<tr>\n",
       "              <td></td>              <th>Coef.</th>  <th>Std.Err.</th>    <th>z</th>     <th>P>|z|</th> <th>[0.025</th>  <th>0.975]</th> \n",
       "</tr>\n",
       "<tr>\n",
       "  <th>Intercept</th>                <td>2.2186</td>   <td>0.6452</td>  <td>3.4388</td>  <td>0.0006</td> <td>0.9541</td>  <td>3.4831</td> \n",
       "</tr>\n",
       "<tr>\n",
       "  <th>Age</th>                      <td>-0.0409</td>  <td>0.0113</td>  <td>-3.6310</td> <td>0.0003</td> <td>-0.0630</td> <td>-0.0188</td>\n",
       "</tr>\n",
       "<tr>\n",
       "  <th>DistanceFromHome</th>         <td>0.0363</td>   <td>0.0099</td>  <td>3.6564</td>  <td>0.0003</td> <td>0.0168</td>  <td>0.0557</td> \n",
       "</tr>\n",
       "<tr>\n",
       "  <th>EnvironmentSatisfaction</th>  <td>-0.3545</td>  <td>0.0754</td>  <td>-4.7020</td> <td>0.0000</td> <td>-0.5023</td> <td>-0.2067</td>\n",
       "</tr>\n",
       "<tr>\n",
       "  <th>JobSatisfaction</th>          <td>-0.3740</td>  <td>0.0744</td>  <td>-5.0284</td> <td>0.0000</td> <td>-0.5197</td> <td>-0.2282</td>\n",
       "</tr>\n",
       "<tr>\n",
       "  <th>MonthlyIncome</th>            <td>-0.0001</td>  <td>0.0000</td>  <td>-3.6660</td> <td>0.0002</td> <td>-0.0002</td> <td>-0.0000</td>\n",
       "</tr>\n",
       "<tr>\n",
       "  <th>NumCompaniesWorked</th>       <td>0.1391</td>   <td>0.0339</td>  <td>4.1027</td>  <td>0.0000</td> <td>0.0726</td>  <td>0.2055</td> \n",
       "</tr>\n",
       "<tr>\n",
       "  <th>RelationshipSatisfaction</th> <td>-0.2290</td>  <td>0.0761</td>  <td>-3.0104</td> <td>0.0026</td> <td>-0.3781</td> <td>-0.0799</td>\n",
       "</tr>\n",
       "<tr>\n",
       "  <th>StockOptionLevel</th>         <td>-0.2593</td>  <td>0.1381</td>  <td>-1.8770</td> <td>0.0605</td> <td>-0.5300</td> <td>0.0115</td> \n",
       "</tr>\n",
       "<tr>\n",
       "  <th>TrainingTimesLastYear</th>    <td>-0.1352</td>  <td>0.0673</td>  <td>-2.0076</td> <td>0.0447</td> <td>-0.2671</td> <td>-0.0032</td>\n",
       "</tr>\n",
       "<tr>\n",
       "  <th>WorkLifeBalance</th>          <td>-0.2972</td>  <td>0.1137</td>  <td>-2.6136</td> <td>0.0090</td> <td>-0.5201</td> <td>-0.0743</td>\n",
       "</tr>\n",
       "<tr>\n",
       "  <th>YearsInCurrentRole</th>       <td>-0.0901</td>  <td>0.0293</td>  <td>-3.0795</td> <td>0.0021</td> <td>-0.1474</td> <td>-0.0327</td>\n",
       "</tr>\n",
       "<tr>\n",
       "  <th>Male</th>                     <td>0.3872</td>   <td>0.1715</td>  <td>2.2582</td>  <td>0.0239</td> <td>0.0511</td>  <td>0.7233</td> \n",
       "</tr>\n",
       "<tr>\n",
       "  <th>Travel_Frequently</th>        <td>0.9226</td>   <td>0.1918</td>  <td>4.8103</td>  <td>0.0000</td> <td>0.5467</td>  <td>1.2986</td> \n",
       "</tr>\n",
       "<tr>\n",
       "  <th>Sales_Department</th>         <td>0.7185</td>   <td>0.1760</td>  <td>4.0813</td>  <td>0.0000</td> <td>0.3734</td>  <td>1.0635</td> \n",
       "</tr>\n",
       "<tr>\n",
       "  <th>Single</th>                   <td>0.7258</td>   <td>0.2263</td>  <td>3.2076</td>  <td>0.0013</td> <td>0.2823</td>  <td>1.1694</td> \n",
       "</tr>\n",
       "<tr>\n",
       "  <th>OverTime_Y</th>               <td>1.7231</td>   <td>0.1742</td>  <td>9.8941</td>  <td>0.0000</td> <td>1.3817</td>  <td>2.0644</td> \n",
       "</tr>\n",
       "</table>"
      ],
      "text/plain": [
       "<class 'statsmodels.iolib.summary2.Summary'>\n",
       "\"\"\"\n",
       "                             Results: Logit\n",
       "========================================================================\n",
       "Model:                 Logit              Pseudo R-squared:   0.250     \n",
       "Dependent Variable:    Attrition_YN       AIC:                1007.7700 \n",
       "Date:                  2023-07-28 15:25   BIC:                1097.7513 \n",
       "No. Observations:      1470               Log-Likelihood:     -486.89   \n",
       "Df Model:              16                 LL-Null:            -649.29   \n",
       "Df Residuals:          1453               LLR p-value:        1.8140e-59\n",
       "Converged:             1.0000             Scale:              1.0000    \n",
       "No. Iterations:        7.0000                                           \n",
       "------------------------------------------------------------------------\n",
       "                          Coef.  Std.Err.    z    P>|z|   [0.025  0.975]\n",
       "------------------------------------------------------------------------\n",
       "Intercept                 2.2186   0.6452  3.4388 0.0006  0.9541  3.4831\n",
       "Age                      -0.0409   0.0113 -3.6310 0.0003 -0.0630 -0.0188\n",
       "DistanceFromHome          0.0363   0.0099  3.6564 0.0003  0.0168  0.0557\n",
       "EnvironmentSatisfaction  -0.3545   0.0754 -4.7020 0.0000 -0.5023 -0.2067\n",
       "JobSatisfaction          -0.3740   0.0744 -5.0284 0.0000 -0.5197 -0.2282\n",
       "MonthlyIncome            -0.0001   0.0000 -3.6660 0.0002 -0.0002 -0.0000\n",
       "NumCompaniesWorked        0.1391   0.0339  4.1027 0.0000  0.0726  0.2055\n",
       "RelationshipSatisfaction -0.2290   0.0761 -3.0104 0.0026 -0.3781 -0.0799\n",
       "StockOptionLevel         -0.2593   0.1381 -1.8770 0.0605 -0.5300  0.0115\n",
       "TrainingTimesLastYear    -0.1352   0.0673 -2.0076 0.0447 -0.2671 -0.0032\n",
       "WorkLifeBalance          -0.2972   0.1137 -2.6136 0.0090 -0.5201 -0.0743\n",
       "YearsInCurrentRole       -0.0901   0.0293 -3.0795 0.0021 -0.1474 -0.0327\n",
       "Male                      0.3872   0.1715  2.2582 0.0239  0.0511  0.7233\n",
       "Travel_Frequently         0.9226   0.1918  4.8103 0.0000  0.5467  1.2986\n",
       "Sales_Department          0.7185   0.1760  4.0813 0.0000  0.3734  1.0635\n",
       "Single                    0.7258   0.2263  3.2076 0.0013  0.2823  1.1694\n",
       "OverTime_Y                1.7231   0.1742  9.8941 0.0000  1.3817  2.0644\n",
       "========================================================================\n",
       "\n",
       "\"\"\""
      ]
     },
     "execution_count": 47,
     "metadata": {},
     "output_type": "execute_result"
    }
   ],
   "source": [
    "model2 = smf.logit(data=df, formula=fml2)\n",
    "res = model2.fit()\n",
    "\n",
    "# Final Model \n",
    "res.summary2()"
   ]
  },
  {
   "cell_type": "code",
   "execution_count": 54,
   "id": "8c29fd21",
   "metadata": {},
   "outputs": [
    {
     "data": {
      "text/plain": [
       "5.601867363924198"
      ]
     },
     "execution_count": 54,
     "metadata": {},
     "output_type": "execute_result"
    }
   ],
   "source": [
    "np.exp(1.7231)"
   ]
  },
  {
   "cell_type": "code",
   "execution_count": 48,
   "id": "b35aad49",
   "metadata": {},
   "outputs": [
    {
     "data": {
      "text/html": [
       "<div>\n",
       "<style scoped>\n",
       "    .dataframe tbody tr th:only-of-type {\n",
       "        vertical-align: middle;\n",
       "    }\n",
       "\n",
       "    .dataframe tbody tr th {\n",
       "        vertical-align: top;\n",
       "    }\n",
       "\n",
       "    .dataframe thead th {\n",
       "        text-align: right;\n",
       "    }\n",
       "</style>\n",
       "<table border=\"1\" class=\"dataframe\">\n",
       "  <thead>\n",
       "    <tr style=\"text-align: right;\">\n",
       "      <th></th>\n",
       "      <th>5%</th>\n",
       "      <th>95%</th>\n",
       "      <th>Odds Ratio</th>\n",
       "    </tr>\n",
       "  </thead>\n",
       "  <tbody>\n",
       "    <tr>\n",
       "      <th>Intercept</th>\n",
       "      <td>2.596366</td>\n",
       "      <td>32.560823</td>\n",
       "      <td>9.194553</td>\n",
       "    </tr>\n",
       "    <tr>\n",
       "      <th>Age</th>\n",
       "      <td>0.938971</td>\n",
       "      <td>0.981355</td>\n",
       "      <td>0.959929</td>\n",
       "    </tr>\n",
       "    <tr>\n",
       "      <th>DistanceFromHome</th>\n",
       "      <td>1.016974</td>\n",
       "      <td>1.057307</td>\n",
       "      <td>1.036945</td>\n",
       "    </tr>\n",
       "    <tr>\n",
       "      <th>EnvironmentSatisfaction</th>\n",
       "      <td>0.605139</td>\n",
       "      <td>0.813228</td>\n",
       "      <td>0.701510</td>\n",
       "    </tr>\n",
       "    <tr>\n",
       "      <th>JobSatisfaction</th>\n",
       "      <td>0.594678</td>\n",
       "      <td>0.795960</td>\n",
       "      <td>0.687997</td>\n",
       "    </tr>\n",
       "    <tr>\n",
       "      <th>MonthlyIncome</th>\n",
       "      <td>0.999836</td>\n",
       "      <td>0.999950</td>\n",
       "      <td>0.999893</td>\n",
       "    </tr>\n",
       "    <tr>\n",
       "      <th>NumCompaniesWorked</th>\n",
       "      <td>1.075329</td>\n",
       "      <td>1.228129</td>\n",
       "      <td>1.149192</td>\n",
       "    </tr>\n",
       "    <tr>\n",
       "      <th>RelationshipSatisfaction</th>\n",
       "      <td>0.685153</td>\n",
       "      <td>0.923199</td>\n",
       "      <td>0.795319</td>\n",
       "    </tr>\n",
       "    <tr>\n",
       "      <th>StockOptionLevel</th>\n",
       "      <td>0.588590</td>\n",
       "      <td>1.011523</td>\n",
       "      <td>0.771604</td>\n",
       "    </tr>\n",
       "    <tr>\n",
       "      <th>TrainingTimesLastYear</th>\n",
       "      <td>0.765561</td>\n",
       "      <td>0.996799</td>\n",
       "      <td>0.873562</td>\n",
       "    </tr>\n",
       "    <tr>\n",
       "      <th>WorkLifeBalance</th>\n",
       "      <td>0.594478</td>\n",
       "      <td>0.928369</td>\n",
       "      <td>0.742896</td>\n",
       "    </tr>\n",
       "    <tr>\n",
       "      <th>YearsInCurrentRole</th>\n",
       "      <td>0.862935</td>\n",
       "      <td>0.967783</td>\n",
       "      <td>0.913856</td>\n",
       "    </tr>\n",
       "    <tr>\n",
       "      <th>Male</th>\n",
       "      <td>1.052462</td>\n",
       "      <td>2.061213</td>\n",
       "      <td>1.472871</td>\n",
       "    </tr>\n",
       "    <tr>\n",
       "      <th>Travel_Frequently</th>\n",
       "      <td>1.727540</td>\n",
       "      <td>3.663985</td>\n",
       "      <td>2.515886</td>\n",
       "    </tr>\n",
       "    <tr>\n",
       "      <th>Sales_Department</th>\n",
       "      <td>1.452708</td>\n",
       "      <td>2.896442</td>\n",
       "      <td>2.051264</td>\n",
       "    </tr>\n",
       "    <tr>\n",
       "      <th>Single</th>\n",
       "      <td>1.326203</td>\n",
       "      <td>3.219926</td>\n",
       "      <td>2.066464</td>\n",
       "    </tr>\n",
       "    <tr>\n",
       "      <th>OverTime_Y</th>\n",
       "      <td>3.981806</td>\n",
       "      <td>7.880511</td>\n",
       "      <td>5.601666</td>\n",
       "    </tr>\n",
       "  </tbody>\n",
       "</table>\n",
       "</div>"
      ],
      "text/plain": [
       "                                5%        95%  Odds Ratio\n",
       "Intercept                 2.596366  32.560823    9.194553\n",
       "Age                       0.938971   0.981355    0.959929\n",
       "DistanceFromHome          1.016974   1.057307    1.036945\n",
       "EnvironmentSatisfaction   0.605139   0.813228    0.701510\n",
       "JobSatisfaction           0.594678   0.795960    0.687997\n",
       "MonthlyIncome             0.999836   0.999950    0.999893\n",
       "NumCompaniesWorked        1.075329   1.228129    1.149192\n",
       "RelationshipSatisfaction  0.685153   0.923199    0.795319\n",
       "StockOptionLevel          0.588590   1.011523    0.771604\n",
       "TrainingTimesLastYear     0.765561   0.996799    0.873562\n",
       "WorkLifeBalance           0.594478   0.928369    0.742896\n",
       "YearsInCurrentRole        0.862935   0.967783    0.913856\n",
       "Male                      1.052462   2.061213    1.472871\n",
       "Travel_Frequently         1.727540   3.663985    2.515886\n",
       "Sales_Department          1.452708   2.896442    2.051264\n",
       "Single                    1.326203   3.219926    2.066464\n",
       "OverTime_Y                3.981806   7.880511    5.601666"
      ]
     },
     "metadata": {},
     "output_type": "display_data"
    }
   ],
   "source": [
    "# Odds Ratio Calculate\n",
    "params = res.params\n",
    "conf = res.conf_int()\n",
    "conf['Odds Ratio'] = params\n",
    "conf.columns = ['5%', '95%', 'Odds Ratio']\n",
    "display(np.exp(conf))"
   ]
  },
  {
   "cell_type": "code",
   "execution_count": 57,
   "id": "aa5893ed",
   "metadata": {},
   "outputs": [],
   "source": [
    "or_tbl = np.exp(conf)"
   ]
  },
  {
   "cell_type": "code",
   "execution_count": 58,
   "id": "a64f98f0",
   "metadata": {},
   "outputs": [
    {
     "data": {
      "image/png": "[encoded data removed]",
      "text/plain": [
       "<Figure size 640x480 with 1 Axes>"
      ]
     },
     "metadata": {},
     "output_type": "display_data"
    }
   ],
   "source": [
    "# Odds Ratio Visualization\n",
    "g = sns.lineplot(data=or_tbl.iloc[1:]['Odds Ratio'], )\n",
    "g.tick_params(axis='x', rotation=90)\n",
    "g.axhline(y=1.0,linestyle='--')\n",
    "plt.show()"
   ]
  },
  {
   "cell_type": "code",
   "execution_count": 51,
   "id": "25b0ded3",
   "metadata": {},
   "outputs": [],
   "source": [
    "# Single, Far from home, Not satisfied, Male, lower trained last year, No Stock Option, New in current role. "
   ]
  },
  {
   "cell_type": "code",
   "execution_count": 52,
   "id": "52493016",
   "metadata": {},
   "outputs": [],
   "source": [
    "# Final_DataFrame for PySpark ML\n",
    "final_df = df[cor_test.drop([\n",
    "    'PercentSalaryHike', \n",
    "    'TotalWorkingYears', \n",
    "    'YearsAtCompany',\n",
    "    'YearsSinceLastPromotion', \n",
    "    'YearsWithCurrManager', \n",
    "    'PerformanceRating',\n",
    "    'MonthlyRate',\n",
    "], axis=1).columns]"
   ]
  },
  {
   "cell_type": "code",
   "execution_count": 53,
   "id": "3291e2b2",
   "metadata": {},
   "outputs": [
    {
     "data": {
      "text/html": [
       "<div>\n",
       "<style scoped>\n",
       "    .dataframe tbody tr th:only-of-type {\n",
       "        vertical-align: middle;\n",
       "    }\n",
       "\n",
       "    .dataframe tbody tr th {\n",
       "        vertical-align: top;\n",
       "    }\n",
       "\n",
       "    .dataframe thead th {\n",
       "        text-align: right;\n",
       "    }\n",
       "</style>\n",
       "<table border=\"1\" class=\"dataframe\">\n",
       "  <thead>\n",
       "    <tr style=\"text-align: right;\">\n",
       "      <th></th>\n",
       "      <th>Attrition_YN</th>\n",
       "      <th>Age</th>\n",
       "      <th>DistanceFromHome</th>\n",
       "      <th>EnvironmentSatisfaction</th>\n",
       "      <th>JobSatisfaction</th>\n",
       "      <th>MonthlyIncome</th>\n",
       "      <th>NumCompaniesWorked</th>\n",
       "      <th>RelationshipSatisfaction</th>\n",
       "      <th>StockOptionLevel</th>\n",
       "      <th>TrainingTimesLastYear</th>\n",
       "      <th>WorkLifeBalance</th>\n",
       "      <th>YearsInCurrentRole</th>\n",
       "      <th>Male</th>\n",
       "      <th>Travel_Frequently</th>\n",
       "      <th>Sales_Department</th>\n",
       "      <th>Single</th>\n",
       "      <th>OverTime_Y</th>\n",
       "    </tr>\n",
       "  </thead>\n",
       "  <tbody>\n",
       "    <tr>\n",
       "      <th>0</th>\n",
       "      <td>1</td>\n",
       "      <td>41</td>\n",
       "      <td>1</td>\n",
       "      <td>2</td>\n",
       "      <td>4</td>\n",
       "      <td>5993</td>\n",
       "      <td>8</td>\n",
       "      <td>1</td>\n",
       "      <td>0</td>\n",
       "      <td>0</td>\n",
       "      <td>1</td>\n",
       "      <td>4</td>\n",
       "      <td>0</td>\n",
       "      <td>0</td>\n",
       "      <td>1</td>\n",
       "      <td>1</td>\n",
       "      <td>1</td>\n",
       "    </tr>\n",
       "    <tr>\n",
       "      <th>1</th>\n",
       "      <td>0</td>\n",
       "      <td>49</td>\n",
       "      <td>8</td>\n",
       "      <td>3</td>\n",
       "      <td>2</td>\n",
       "      <td>5130</td>\n",
       "      <td>1</td>\n",
       "      <td>4</td>\n",
       "      <td>1</td>\n",
       "      <td>3</td>\n",
       "      <td>3</td>\n",
       "      <td>7</td>\n",
       "      <td>1</td>\n",
       "      <td>1</td>\n",
       "      <td>0</td>\n",
       "      <td>0</td>\n",
       "      <td>0</td>\n",
       "    </tr>\n",
       "    <tr>\n",
       "      <th>2</th>\n",
       "      <td>1</td>\n",
       "      <td>37</td>\n",
       "      <td>2</td>\n",
       "      <td>4</td>\n",
       "      <td>3</td>\n",
       "      <td>2090</td>\n",
       "      <td>6</td>\n",
       "      <td>2</td>\n",
       "      <td>0</td>\n",
       "      <td>3</td>\n",
       "      <td>3</td>\n",
       "      <td>0</td>\n",
       "      <td>1</td>\n",
       "      <td>0</td>\n",
       "      <td>0</td>\n",
       "      <td>1</td>\n",
       "      <td>1</td>\n",
       "    </tr>\n",
       "    <tr>\n",
       "      <th>3</th>\n",
       "      <td>0</td>\n",
       "      <td>33</td>\n",
       "      <td>3</td>\n",
       "      <td>4</td>\n",
       "      <td>3</td>\n",
       "      <td>2909</td>\n",
       "      <td>1</td>\n",
       "      <td>3</td>\n",
       "      <td>0</td>\n",
       "      <td>3</td>\n",
       "      <td>3</td>\n",
       "      <td>7</td>\n",
       "      <td>0</td>\n",
       "      <td>1</td>\n",
       "      <td>0</td>\n",
       "      <td>0</td>\n",
       "      <td>1</td>\n",
       "    </tr>\n",
       "    <tr>\n",
       "      <th>4</th>\n",
       "      <td>0</td>\n",
       "      <td>27</td>\n",
       "      <td>2</td>\n",
       "      <td>1</td>\n",
       "      <td>2</td>\n",
       "      <td>3468</td>\n",
       "      <td>9</td>\n",
       "      <td>4</td>\n",
       "      <td>1</td>\n",
       "      <td>3</td>\n",
       "      <td>3</td>\n",
       "      <td>2</td>\n",
       "      <td>1</td>\n",
       "      <td>0</td>\n",
       "      <td>0</td>\n",
       "      <td>0</td>\n",
       "      <td>0</td>\n",
       "    </tr>\n",
       "  </tbody>\n",
       "</table>\n",
       "</div>"
      ],
      "text/plain": [
       "   Attrition_YN  Age  DistanceFromHome  EnvironmentSatisfaction  JobSatisfaction  MonthlyIncome  NumCompaniesWorked  RelationshipSatisfaction  StockOptionLevel  TrainingTimesLastYear  WorkLifeBalance  YearsInCurrentRole  Male  Travel_Frequently  Sales_Department  Single  OverTime_Y\n",
       "0             1   41                 1                        2                4           5993                   8                         1                 0                      0                1                   4     0                  0                 1       1           1\n",
       "1             0   49                 8                        3                2           5130                   1                         4                 1                      3                3                   7     1                  1                 0       0           0\n",
       "2             1   37                 2                        4                3           2090                   6                         2                 0                      3                3                   0     1                  0                 0       1           1\n",
       "3             0   33                 3                        4                3           2909                   1                         3                 0                      3                3                   7     0                  1                 0       0           1\n",
       "4             0   27                 2                        1                2           3468                   9                         4                 1                      3                3                   2     1                  0                 0       0           0"
      ]
     },
     "execution_count": 53,
     "metadata": {},
     "output_type": "execute_result"
    }
   ],
   "source": [
    "final_df.head()"
   ]
  },
  {
   "cell_type": "markdown",
   "id": "4297392f",
   "metadata": {},
   "source": [
    "# Building Logistic Regression ML Molder by PySpark"
   ]
  },
  {
   "cell_type": "markdown",
   "id": "bd794647",
   "metadata": {},
   "source": [
    "## Local PySpark Environt Connection"
   ]
  },
  {
   "cell_type": "code",
   "execution_count": 54,
   "id": "1d72dded",
   "metadata": {},
   "outputs": [
    {
     "name": "stdout",
     "output_type": "stream",
     "text": [
      "3.2.4\n"
     ]
    }
   ],
   "source": [
    "import findspark\n",
    "findspark.init()\n",
    "import pyspark\n",
    "print(pyspark.__version__)"
   ]
  },
  {
   "cell_type": "code",
   "execution_count": 55,
   "id": "8ad873a1",
   "metadata": {},
   "outputs": [],
   "source": [
    "import os\n",
    "import sys\n",
    "import pyspark\n",
    "\n",
    "os.environ['PYSPARK_PYTHON'] = sys.executable\n",
    "os.environ['PYSPARK_DRIVER_PYTHON'] = sys.executable\n",
    "\n",
    "from pyspark.sql import SparkSession\n",
    "\n",
    "#Create PySpark SparkSession\n",
    "spark = SparkSession.builder.getOrCreate()"
   ]
  },
  {
   "cell_type": "code",
   "execution_count": 56,
   "id": "ae8e60f9",
   "metadata": {},
   "outputs": [
    {
     "data": {
      "text/plain": [
       "['Attrition_YN',\n",
       " 'Age',\n",
       " 'DistanceFromHome',\n",
       " 'EnvironmentSatisfaction',\n",
       " 'JobSatisfaction',\n",
       " 'MonthlyIncome',\n",
       " 'NumCompaniesWorked',\n",
       " 'RelationshipSatisfaction',\n",
       " 'StockOptionLevel',\n",
       " 'TrainingTimesLastYear',\n",
       " 'WorkLifeBalance',\n",
       " 'YearsInCurrentRole',\n",
       " 'Male',\n",
       " 'Travel_Frequently',\n",
       " 'Sales_Department',\n",
       " 'Single',\n",
       " 'OverTime_Y']"
      ]
     },
     "execution_count": 56,
     "metadata": {},
     "output_type": "execute_result"
    }
   ],
   "source": [
    "final_df.columns.to_list()"
   ]
  },
  {
   "cell_type": "markdown",
   "id": "84c6a1af",
   "metadata": {},
   "source": [
    "## Check Spark SQL Dataset"
   ]
  },
  {
   "cell_type": "code",
   "execution_count": 57,
   "id": "2cea8e92",
   "metadata": {},
   "outputs": [
    {
     "name": "stdout",
     "output_type": "stream",
     "text": [
      "root\n",
      " |-- Attrition_YN: long (nullable = true)\n",
      " |-- Age: long (nullable = true)\n",
      " |-- DistanceFromHome: long (nullable = true)\n",
      " |-- EnvironmentSatisfaction: long (nullable = true)\n",
      " |-- JobSatisfaction: long (nullable = true)\n",
      " |-- MonthlyIncome: long (nullable = true)\n",
      " |-- NumCompaniesWorked: long (nullable = true)\n",
      " |-- RelationshipSatisfaction: long (nullable = true)\n",
      " |-- StockOptionLevel: long (nullable = true)\n",
      " |-- TrainingTimesLastYear: long (nullable = true)\n",
      " |-- WorkLifeBalance: long (nullable = true)\n",
      " |-- YearsInCurrentRole: long (nullable = true)\n",
      " |-- Male: long (nullable = true)\n",
      " |-- Travel_Frequently: long (nullable = true)\n",
      " |-- Sales_Department: long (nullable = true)\n",
      " |-- Single: long (nullable = true)\n",
      " |-- OverTime_Y: long (nullable = true)\n",
      "\n",
      "+------------+---+----------------+-----------------------+---------------+-------------+------------------+------------------------+----------------+---------------------+---------------+------------------+----+-----------------+----------------+------+----------+\n",
      "|Attrition_YN|Age|DistanceFromHome|EnvironmentSatisfaction|JobSatisfaction|MonthlyIncome|NumCompaniesWorked|RelationshipSatisfaction|StockOptionLevel|TrainingTimesLastYear|WorkLifeBalance|YearsInCurrentRole|Male|Travel_Frequently|Sales_Department|Single|OverTime_Y|\n",
      "+------------+---+----------------+-----------------------+---------------+-------------+------------------+------------------------+----------------+---------------------+---------------+------------------+----+-----------------+----------------+------+----------+\n",
      "|           1| 41|               1|                      2|              4|         5993|                 8|                       1|               0|                    0|              1|                 4|   0|                0|               1|     1|         1|\n",
      "|           0| 49|               8|                      3|              2|         5130|                 1|                       4|               1|                    3|              3|                 7|   1|                1|               0|     0|         0|\n",
      "|           1| 37|               2|                      4|              3|         2090|                 6|                       2|               0|                    3|              3|                 0|   1|                0|               0|     1|         1|\n",
      "|           0| 33|               3|                      4|              3|         2909|                 1|                       3|               0|                    3|              3|                 7|   0|                1|               0|     0|         1|\n",
      "|           0| 27|               2|                      1|              2|         3468|                 9|                       4|               1|                    3|              3|                 2|   1|                0|               0|     0|         0|\n",
      "|           0| 32|               2|                      4|              4|         3068|                 0|                       3|               0|                    2|              2|                 7|   1|                1|               0|     1|         0|\n",
      "|           0| 59|               3|                      3|              1|         2670|                 4|                       1|               3|                    3|              2|                 0|   0|                0|               0|     0|         1|\n",
      "|           0| 30|              24|                      4|              3|         2693|                 1|                       2|               1|                    2|              3|                 0|   1|                0|               0|     0|         0|\n",
      "|           0| 38|              23|                      4|              3|         9526|                 0|                       2|               0|                    2|              3|                 7|   1|                1|               0|     1|         0|\n",
      "|           0| 36|              27|                      3|              3|         5237|                 6|                       2|               2|                    3|              2|                 7|   1|                0|               0|     0|         0|\n",
      "|           0| 35|              16|                      1|              2|         2426|                 0|                       3|               1|                    5|              3|                 4|   1|                0|               0|     0|         0|\n",
      "|           0| 29|              15|                      4|              3|         4193|                 0|                       4|               0|                    3|              3|                 5|   0|                0|               0|     1|         1|\n",
      "|           0| 31|              26|                      1|              3|         2911|                 1|                       4|               1|                    1|              2|                 2|   1|                0|               0|     0|         0|\n",
      "|           0| 34|              19|                      2|              4|         2661|                 0|                       3|               1|                    2|              3|                 2|   1|                0|               0|     0|         0|\n",
      "|           1| 28|              24|                      3|              3|         2028|                 5|                       2|               0|                    4|              3|                 2|   1|                0|               0|     1|         1|\n",
      "|           0| 29|              21|                      2|              1|         9980|                 1|                       3|               1|                    1|              3|                 9|   0|                0|               0|     0|         0|\n",
      "|           0| 32|               5|                      1|              2|         3298|                 0|                       4|               2|                    5|              2|                 2|   1|                0|               0|     0|         1|\n",
      "|           0| 22|              16|                      4|              4|         2935|                 1|                       2|               2|                    2|              2|                 0|   1|                0|               0|     0|         1|\n",
      "|           0| 53|               2|                      1|              4|        15427|                 2|                       3|               0|                    3|              3|                 8|   0|                0|               1|     0|         0|\n",
      "|           0| 38|               2|                      4|              4|         3944|                 5|                       3|               0|                    3|              3|                 2|   1|                0|               0|     1|         1|\n",
      "+------------+---+----------------+-----------------------+---------------+-------------+------------------+------------------------+----------------+---------------------+---------------+------------------+----+-----------------+----------------+------+----------+\n",
      "only showing top 20 rows\n",
      "\n"
     ]
    }
   ],
   "source": [
    "#Create PySpark DataFrame from Pandas\n",
    "sdf=spark.createDataFrame(final_df) \n",
    "sdf.printSchema()\n",
    "sdf.show()"
   ]
  },
  {
   "cell_type": "markdown",
   "id": "cdaad72c",
   "metadata": {},
   "source": [
    "## Loading Packages"
   ]
  },
  {
   "cell_type": "code",
   "execution_count": 58,
   "id": "d7c5c68b",
   "metadata": {},
   "outputs": [],
   "source": [
    "from pyspark.ml import Pipeline\n",
    "from pyspark.ml.classification import LogisticRegression\n",
    "from pyspark.ml.feature import HashingTF, Tokenizer\n",
    "from pyspark.sql import Row\n",
    "from pyspark.sql.functions import UserDefinedFunction\n",
    "from pyspark.sql.types import *\n",
    "from pyspark.ml.feature import VectorAssembler\n",
    "from pyspark.mllib.evaluation import *\n",
    "from pyspark.sql import SQLContext"
   ]
  },
  {
   "cell_type": "code",
   "execution_count": 59,
   "id": "a8fbed12",
   "metadata": {},
   "outputs": [],
   "source": [
    "# Define Independence Variables\n",
    "X = final_df.drop('Attrition_YN', axis=1).columns.to_list()"
   ]
  },
  {
   "cell_type": "code",
   "execution_count": 60,
   "id": "44b2d2dd",
   "metadata": {},
   "outputs": [],
   "source": [
    "#creating vectors with names of variables\n",
    "vecAssembler = VectorAssembler(inputCols = X, outputCol=\"features\")\n",
    "v_df = vecAssembler.transform(sdf)\n",
    "vhouse_df = v_df.select(['features', 'Attrition_YN'])\n",
    "vhouse_df = vhouse_df.withColumnRenamed(\"Attrition_YN\", \"label\")# We have to rename our output variable to 'label'"
   ]
  },
  {
   "cell_type": "code",
   "execution_count": 61,
   "id": "77ecce18",
   "metadata": {},
   "outputs": [],
   "source": [
    "#splitting the dataset\n",
    "splits = vhouse_df.randomSplit([0.7, 0.3])\n",
    "train_df = splits[0]\n",
    "test_df = splits[1]"
   ]
  },
  {
   "cell_type": "code",
   "execution_count": 62,
   "id": "c5e6ae7f",
   "metadata": {},
   "outputs": [
    {
     "name": "stdout",
     "output_type": "stream",
     "text": [
      "+--------------------+-----+--------------------+--------------------+----------+\n",
      "|            features|label|       rawPrediction|         probability|prediction|\n",
      "+--------------------+-----+--------------------+--------------------+----------+\n",
      "|[21.0,15.0,3.0,4....|    0|[2.22238727705011...|[0.90224195918370...|       0.0|\n",
      "|[22.0,16.0,4.0,4....|    0|[0.76690200417478...|[0.68285035432987...|       0.0|\n",
      "|[25.0,5.0,3.0,3.0...|    1|[0.05654537701286...|[0.51413257885218...|       0.0|\n",
      "|[26.0,25.0,1.0,3....|    1|[-0.0909739928018...|[0.47727217476763...|       1.0|\n",
      "|[26.0,25.0,3.0,3....|    0|[3.49295601077996...|[0.97048668057318...|       0.0|\n",
      "|[27.0,3.0,3.0,3.0...|    0|[1.14018640348821...|[0.75771386126462...|       0.0|\n",
      "|[27.0,8.0,4.0,3.0...|    0|[1.76706698842093...|[0.85409254311301...|       0.0|\n",
      "|[27.0,17.0,3.0,2....|    0|[0.69969733343730...|[0.66812066367926...|       0.0|\n",
      "|[28.0,4.0,2.0,3.0...|    0|[2.03048868689699...|[0.88396121380267...|       0.0|\n",
      "|[30.0,4.0,3.0,2.0...|    0|[2.19878511961721...|[0.90014036116099...|       0.0|\n",
      "|[30.0,5.0,2.0,4.0...|    0|[4.19382559757418...|[0.98513582540886...|       0.0|\n",
      "|[30.0,5.0,4.0,1.0...|    0|[3.29590713799226...|[0.96428813428797...|       0.0|\n",
      "|[30.0,18.0,1.0,3....|    0|[1.71025432206198...|[0.84686926806456...|       0.0|\n",
      "|[31.0,6.0,2.0,3.0...|    1|[-0.1617273525429...|[0.45965605901220...|       1.0|\n",
      "|[31.0,8.0,3.0,4.0...|    0|[3.92383546948554...|[0.98061794839089...|       0.0|\n",
      "|[32.0,1.0,1.0,4.0...|    0|[2.04083122475795...|[0.88501788148354...|       0.0|\n",
      "|[32.0,6.0,3.0,3.0...|    0|[1.55473265259088...|[0.82559622315538...|       0.0|\n",
      "|[32.0,8.0,2.0,4.0...|    0|[2.59937848138203...|[0.93082156906240...|       0.0|\n",
      "|[32.0,9.0,1.0,1.0...|    1|[0.49361224460682...|[0.62095701490784...|       0.0|\n",
      "|[32.0,16.0,2.0,1....|    1|[-0.9587029810042...|[0.27713795482335...|       1.0|\n",
      "+--------------------+-----+--------------------+--------------------+----------+\n",
      "only showing top 20 rows\n",
      "\n",
      "AUC ROC:0.8063504873052332\n"
     ]
    }
   ],
   "source": [
    "#creating an object with the logistic regression engine\n",
    "lr = LogisticRegression(maxIter=20)\n",
    "pipeline = Pipeline(stages=[lr])\n",
    "\n",
    "#fitting the model\n",
    "model = lr.fit(train_df)\n",
    "\n",
    "#evaluating the model using testing data\n",
    "result = model.transform(test_df)\n",
    "result.prediction\n",
    "result.show()\n",
    "\n",
    "from pyspark.ml.evaluation import BinaryClassificationEvaluator\n",
    "evaluator = BinaryClassificationEvaluator(rawPredictionCol=\"rawPrediction\")\n",
    "AUC_ROC = evaluator.evaluate(result,{evaluator.metricName: \"areaUnderROC\"})\n",
    "print('AUC ROC:' + str(AUC_ROC))"
   ]
  },
  {
   "cell_type": "code",
   "execution_count": 63,
   "id": "0bb1bcb0",
   "metadata": {},
   "outputs": [
    {
     "name": "stderr",
     "output_type": "stream",
     "text": [
      "C:\\spark\\spark-3.2.4-bin-hadoop3.2\\python\\pyspark\\sql\\context.py:77: FutureWarning: Deprecated in 3.0.0. Use SparkSession.builder.getOrCreate() instead.\n",
      "  warnings.warn(\n"
     ]
    },
    {
     "name": "stdout",
     "output_type": "stream",
     "text": [
      "Model Intercept:  1.9440393360818446\n",
      "+--------------------+\n",
      "|      Feature Weight|\n",
      "+--------------------+\n",
      "|-0.04555366450736304|\n",
      "|  0.0355247341444389|\n",
      "|-0.30007170235261854|\n",
      "| -0.2706539123283441|\n",
      "|-1.05493160252003...|\n",
      "| 0.11922538576812579|\n",
      "| -0.2400115579365764|\n",
      "| -0.3237987268898899|\n",
      "|-0.15034821637827098|\n",
      "|-0.22944891711968177|\n",
      "|-0.07788009830084043|\n",
      "|  0.4804470713478083|\n",
      "|  0.8195152384967666|\n",
      "|  0.6447783409180743|\n",
      "|  0.5021143297961203|\n",
      "|  1.5423164290454945|\n",
      "+--------------------+\n",
      "\n",
      "+-----+----------+--------------------+--------------------+\n",
      "|label|prediction|         probability|            features|\n",
      "+-----+----------+--------------------+--------------------+\n",
      "|    0|       0.0|[0.88505646431041...|[21.0,15.0,3.0,4....|\n",
      "|    0|       0.0|[0.69582529061080...|[22.0,16.0,4.0,4....|\n",
      "|    1|       0.0|[0.53909210245531...|[25.0,5.0,3.0,3.0...|\n",
      "|    1|       0.0|[0.52098990603993...|[26.0,25.0,1.0,3....|\n",
      "|    0|       0.0|[0.96172556558205...|[26.0,25.0,3.0,3....|\n",
      "|    0|       0.0|[0.75796193035438...|[27.0,3.0,3.0,3.0...|\n",
      "|    0|       0.0|[0.83751411739116...|[27.0,8.0,4.0,3.0...|\n",
      "|    0|       0.0|[0.68414665162229...|[27.0,17.0,3.0,2....|\n",
      "|    0|       0.0|[0.87682368378242...|[28.0,4.0,2.0,3.0...|\n",
      "|    0|       0.0|[0.89089725882544...|[30.0,4.0,3.0,2.0...|\n",
      "|    0|       0.0|[0.97750948688091...|[30.0,5.0,2.0,4.0...|\n",
      "|    0|       0.0|[0.95420734845084...|[30.0,5.0,4.0,1.0...|\n",
      "|    0|       0.0|[0.83798657431617...|[30.0,18.0,1.0,3....|\n",
      "|    1|       0.0|[0.52719007231060...|[31.0,6.0,2.0,3.0...|\n",
      "|    0|       0.0|[0.97086845212970...|[31.0,8.0,3.0,4.0...|\n",
      "|    0|       0.0|[0.87381885295372...|[32.0,1.0,1.0,4.0...|\n",
      "|    0|       0.0|[0.82252252443862...|[32.0,6.0,3.0,3.0...|\n",
      "|    0|       0.0|[0.91277221730573...|[32.0,8.0,2.0,4.0...|\n",
      "|    1|       0.0|[0.65499851131845...|[32.0,9.0,1.0,1.0...|\n",
      "|    1|       1.0|[0.33675405028653...|[32.0,16.0,2.0,1....|\n",
      "+-----+----------+--------------------+--------------------+\n",
      "only showing top 20 rows\n",
      "\n"
     ]
    }
   ],
   "source": [
    "from pyspark.sql import SQLContext\n",
    "from pyspark.ml.evaluation import BinaryClassificationEvaluator\n",
    "\n",
    "sc = pyspark.SparkContext.getOrCreate()\n",
    "sqlContext = SQLContext(sc)\n",
    "\n",
    "# Evaluate model\n",
    "evaluator = BinaryClassificationEvaluator(rawPredictionCol=\"rawPrediction\")\n",
    "evaluator.evaluate(result)\n",
    "\n",
    "from pyspark.ml.tuning import ParamGridBuilder, CrossValidator\n",
    "\n",
    "# Create ParamGrid for Cross Validation\n",
    "paramGrid = (ParamGridBuilder()\n",
    "             .addGrid(lr.regParam, [0.01, 0.5, 2.0])\n",
    "             .addGrid(lr.elasticNetParam, [0.0, 0.5, 1.0])\n",
    "             .addGrid(lr.maxIter, [1, 5, 10])\n",
    "             .build())\n",
    "# Create 5-fold CrossValidator\n",
    "cv = CrossValidator(estimator=lr, estimatorParamMaps=paramGrid, evaluator=evaluator, numFolds=5)\n",
    "\n",
    "# Run cross validations\n",
    "cvModel = cv.fit(train_df)\n",
    "# this will likely take a fair amount of time because of the amount of models that we're creating and testing\n",
    "\n",
    "# Use test set to measure the accuracy of our model on new data\n",
    "predictions = cvModel.transform(test_df)\n",
    "\n",
    "# cvModel uses the best model found from the Cross Validation\n",
    "# Evaluate best model\n",
    "evaluator.evaluate(predictions)\n",
    "\n",
    "print('Model Intercept: ', cvModel.bestModel.intercept)\n",
    "weights = cvModel.bestModel.coefficients\n",
    "weights = [(float(w),) for w in weights]  # convert numpy type to float, and to tuple\n",
    "weightsDF = sqlContext.createDataFrame(weights, [\"Feature Weight\"])\n",
    "weightsDF.show()\n",
    "# View best model's predictions and probabilities of each prediction class\n",
    "selected = predictions.select(\"label\", \"prediction\", \"probability\", \"features\")\n",
    "selected.show()"
   ]
  },
  {
   "cell_type": "code",
   "execution_count": 64,
   "id": "db3d786e",
   "metadata": {},
   "outputs": [],
   "source": [
    "best_fitted_AUC = evaluator.evaluate(predictions,{evaluator.metricName: \"areaUnderROC\"})"
   ]
  },
  {
   "cell_type": "code",
   "execution_count": 65,
   "id": "3d0ac2e1",
   "metadata": {},
   "outputs": [
    {
     "name": "stdout",
     "output_type": "stream",
     "text": [
      "AUC ROC:0.808\n"
     ]
    }
   ],
   "source": [
    "print('AUC ROC:' + str(round(best_fitted_AUC, 3)))"
   ]
  },
  {
   "cell_type": "code",
   "execution_count": 66,
   "id": "4713bc7d",
   "metadata": {},
   "outputs": [],
   "source": [
    "pred_result = pd.DataFrame(predictions.toPandas())[['label', 'prediction']]"
   ]
  },
  {
   "cell_type": "code",
   "execution_count": 67,
   "id": "5ac32bcb",
   "metadata": {},
   "outputs": [],
   "source": [
    "from sklearn.metrics import confusion_matrix\n",
    "cm = confusion_matrix(y_true = pred_result['label'], y_pred=pred_result['prediction'])"
   ]
  },
  {
   "cell_type": "code",
   "execution_count": 68,
   "id": "a91667ec",
   "metadata": {},
   "outputs": [
    {
     "name": "stdout",
     "output_type": "stream",
     "text": [
      "\n",
      "True Negatives : 359\n",
      "False Positives: 3\n",
      "False Negatives: 70\n",
      "True Positives : 19\n",
      "\n"
     ]
    },
    {
     "data": {
      "image/png": "[encoded data removed]",
      "text/plain": [
       "<Figure size 640x480 with 2 Axes>"
      ]
     },
     "metadata": {},
     "output_type": "display_data"
    }
   ],
   "source": [
    "model_tn, \\\n",
    "model_fp, \\\n",
    "model_fn, \\\n",
    "model_tp = cm.ravel()\n",
    "\n",
    "print(f\"\"\"\n",
    "True Negatives : {model_tn}\n",
    "False Positives: {model_fp}\n",
    "False Negatives: {model_fn}\n",
    "True Positives : {model_tp}\n",
    "\"\"\")\n",
    "\n",
    "# heatmap\n",
    "sns.heatmap(cm,\n",
    "            annot       = True,\n",
    "            xticklabels = ['Attrition No', 'Attrition Yes'],\n",
    "            yticklabels = ['Attrition No', 'Attrition Yes'],\n",
    "            cmap        = 'Blues',\n",
    "            fmt         = 'g')\n",
    "\n",
    "\n",
    "plt.xlabel('Predicted')\n",
    "plt.ylabel('Actual')\n",
    "plt.title('Confusion Matrix of the Classifier')\n",
    "plt.show()"
   ]
  }
 ],
 "metadata": {
  "kernelspec": {
   "display_name": "Python 3 (ipykernel)",
   "language": "python",
   "name": "python3"
  },
  "language_info": {
   "codemirror_mode": {
    "name": "ipython",
    "version": 3
   },
   "file_extension": ".py",
   "mimetype": "text/x-python",
   "name": "python",
   "nbconvert_exporter": "python",
   "pygments_lexer": "ipython3",
   "version": "3.9.13"
  },
  "toc": {
   "base_numbering": 1,
   "nav_menu": {},
   "number_sections": true,
   "sideBar": true,
   "skip_h1_title": false,
   "title_cell": "Table of Contents",
   "title_sidebar": "Contents",
   "toc_cell": false,
   "toc_position": {},
   "toc_section_display": true,
   "toc_window_display": false
  },
  "varInspector": {
   "cols": {
    "lenName": 16,
    "lenType": 16,
    "lenVar": 40
   },
   "kernels_config": {
    "python": {
     "delete_cmd_postfix": "",
     "delete_cmd_prefix": "del ",
     "library": "var_list.py",
     "varRefreshCmd": "print(var_dic_list())"
    },
    "r": {
     "delete_cmd_postfix": ") ",
     "delete_cmd_prefix": "rm(",
     "library": "var_list.r",
     "varRefreshCmd": "cat(var_dic_list()) "
    }
   },
   "types_to_exclude": [
    "module",
    "function",
    "builtin_function_or_method",
    "instance",
    "_Feature"
   ],
   "window_display": false
  }
 },
 "nbformat": 4,
 "nbformat_minor": 5
}
